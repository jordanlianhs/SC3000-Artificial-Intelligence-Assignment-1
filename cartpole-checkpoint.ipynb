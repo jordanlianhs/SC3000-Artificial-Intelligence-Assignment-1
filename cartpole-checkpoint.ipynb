{
 "cells": [
  {
   "cell_type": "markdown",
   "metadata": {
    "colab_type": "text",
    "id": "view-in-github"
   },
   "source": [
    "<a href=\"https://colab.research.google.com/github/yue-zhongqi/cartpole_colab/blob/main/cartpole.ipynb\" target=\"_parent\"><img src=\"https://colab.research.google.com/assets/colab-badge.svg\" alt=\"Open In Colab\"/></a>"
   ]
  },
  {
   "cell_type": "markdown",
   "metadata": {
    "id": "ZauhjPSfX7pI"
   },
   "source": [
    "# Tutorial and Sample Code for Balancing a Pole on a Cart"
   ]
  },
  {
   "cell_type": "markdown",
   "metadata": {
    "id": "UBiYOoesYMvr"
   },
   "source": [
    "## Installing dependencies:"
   ]
  },
  {
   "cell_type": "code",
   "execution_count": 1,
   "metadata": {
    "colab": {
     "base_uri": "https://localhost:8080/"
    },
    "id": "PbgnVwZmX5uW",
    "outputId": "7dcfe5ac-b419-4d5d-8305-1ba3c1240df3"
   },
   "outputs": [
    {
     "name": "stderr",
     "output_type": "stream",
     "text": [
      "The system cannot find the path specified.\n",
      "The system cannot find the path specified.\n",
      "The system cannot find the path specified.\n",
      "The system cannot find the path specified.\n"
     ]
    },
    {
     "name": "stdout",
     "output_type": "stream",
     "text": [
      "Requirement already satisfied: gym[classic_control] in c:\\programdata\\anaconda3\\lib\\site-packages (0.26.2)\n",
      "Requirement already satisfied: cloudpickle>=1.2.0 in c:\\programdata\\anaconda3\\lib\\site-packages (from gym[classic_control]) (2.0.0)\n",
      "Requirement already satisfied: gym-notices>=0.0.4 in c:\\programdata\\anaconda3\\lib\\site-packages (from gym[classic_control]) (0.0.8)\n",
      "Requirement already satisfied: numpy>=1.18.0 in c:\\programdata\\anaconda3\\lib\\site-packages (from gym[classic_control]) (1.20.3)\n",
      "Requirement already satisfied: importlib-metadata>=4.8.0 in c:\\programdata\\anaconda3\\lib\\site-packages (from gym[classic_control]) (4.8.1)\n",
      "Requirement already satisfied: pygame==2.1.0 in c:\\programdata\\anaconda3\\lib\\site-packages (from gym[classic_control]) (2.1.0)\n",
      "Requirement already satisfied: zipp>=0.5 in c:\\programdata\\anaconda3\\lib\\site-packages (from importlib-metadata>=4.8.0->gym[classic_control]) (3.6.0)\n"
     ]
    },
    {
     "name": "stderr",
     "output_type": "stream",
     "text": [
      "The system cannot find the path specified.\n",
      "The system cannot find the path specified.\n"
     ]
    },
    {
     "name": "stdout",
     "output_type": "stream",
     "text": [
      "Requirement already satisfied: setuptools in c:\\programdata\\anaconda3\\lib\\site-packages (58.0.4)\n",
      "Collecting setuptools\n",
      "  Using cached setuptools-67.4.0-py3-none-any.whl (1.1 MB)\n",
      "Installing collected packages: setuptools\n",
      "  Attempting uninstall: setuptools\n",
      "    Found existing installation: setuptools 58.0.4\n",
      "    Uninstalling setuptools-58.0.4:\n",
      "ERROR: Could not install packages due to an OSError: [WinError 5] Access is denied: 'c:\\\\programdata\\\\anaconda3\\\\lib\\\\site-packages\\\\_distutils_hack\\\\override.py'\n",
      "Consider using the `--user` option or check the permissions.\n",
      "\n"
     ]
    },
    {
     "name": "stderr",
     "output_type": "stream",
     "text": [
      "The system cannot find the path specified.\n"
     ]
    },
    {
     "name": "stdout",
     "output_type": "stream",
     "text": [
      "Requirement already satisfied: tensorflow in c:\\programdata\\anaconda3\\lib\\site-packages (2.11.0)\n",
      "Requirement already satisfied: tensorflow-intel==2.11.0 in c:\\programdata\\anaconda3\\lib\\site-packages (from tensorflow) (2.11.0)\n",
      "Requirement already satisfied: tensorboard<2.12,>=2.11 in c:\\programdata\\anaconda3\\lib\\site-packages (from tensorflow-intel==2.11.0->tensorflow) (2.11.2)\n",
      "Requirement already satisfied: tensorflow-io-gcs-filesystem>=0.23.1 in c:\\programdata\\anaconda3\\lib\\site-packages (from tensorflow-intel==2.11.0->tensorflow) (0.30.0)\n",
      "Requirement already satisfied: packaging in c:\\programdata\\anaconda3\\lib\\site-packages (from tensorflow-intel==2.11.0->tensorflow) (21.0)\n",
      "Requirement already satisfied: gast<=0.4.0,>=0.2.1 in c:\\programdata\\anaconda3\\lib\\site-packages (from tensorflow-intel==2.11.0->tensorflow) (0.4.0)\n",
      "Requirement already satisfied: h5py>=2.9.0 in c:\\programdata\\anaconda3\\lib\\site-packages (from tensorflow-intel==2.11.0->tensorflow) (3.2.1)\n",
      "Requirement already satisfied: setuptools in c:\\programdata\\anaconda3\\lib\\site-packages (from tensorflow-intel==2.11.0->tensorflow) (58.0.4)\n",
      "Requirement already satisfied: tensorflow-estimator<2.12,>=2.11.0 in c:\\programdata\\anaconda3\\lib\\site-packages (from tensorflow-intel==2.11.0->tensorflow) (2.11.0)\n",
      "Requirement already satisfied: wrapt>=1.11.0 in c:\\programdata\\anaconda3\\lib\\site-packages (from tensorflow-intel==2.11.0->tensorflow) (1.12.1)\n",
      "Requirement already satisfied: absl-py>=1.0.0 in c:\\programdata\\anaconda3\\lib\\site-packages (from tensorflow-intel==2.11.0->tensorflow) (1.4.0)\n",
      "Requirement already satisfied: flatbuffers>=2.0 in c:\\programdata\\anaconda3\\lib\\site-packages (from tensorflow-intel==2.11.0->tensorflow) (23.1.21)\n",
      "Requirement already satisfied: opt-einsum>=2.3.2 in c:\\programdata\\anaconda3\\lib\\site-packages (from tensorflow-intel==2.11.0->tensorflow) (3.3.0)\n",
      "Requirement already satisfied: libclang>=13.0.0 in c:\\programdata\\anaconda3\\lib\\site-packages (from tensorflow-intel==2.11.0->tensorflow) (15.0.6.1)\n",
      "Requirement already satisfied: astunparse>=1.6.0 in c:\\programdata\\anaconda3\\lib\\site-packages (from tensorflow-intel==2.11.0->tensorflow) (1.6.3)\n",
      "Requirement already satisfied: six>=1.12.0 in c:\\programdata\\anaconda3\\lib\\site-packages (from tensorflow-intel==2.11.0->tensorflow) (1.16.0)\n",
      "Requirement already satisfied: grpcio<2.0,>=1.24.3 in c:\\programdata\\anaconda3\\lib\\site-packages (from tensorflow-intel==2.11.0->tensorflow) (1.51.1)\n",
      "Requirement already satisfied: termcolor>=1.1.0 in c:\\programdata\\anaconda3\\lib\\site-packages (from tensorflow-intel==2.11.0->tensorflow) (2.2.0)\n",
      "Requirement already satisfied: typing-extensions>=3.6.6 in c:\\programdata\\anaconda3\\lib\\site-packages (from tensorflow-intel==2.11.0->tensorflow) (3.10.0.2)\n",
      "Requirement already satisfied: keras<2.12,>=2.11.0 in c:\\programdata\\anaconda3\\lib\\site-packages (from tensorflow-intel==2.11.0->tensorflow) (2.11.0)\n",
      "Requirement already satisfied: google-pasta>=0.1.1 in c:\\programdata\\anaconda3\\lib\\site-packages (from tensorflow-intel==2.11.0->tensorflow) (0.2.0)\n",
      "Requirement already satisfied: protobuf<3.20,>=3.9.2 in c:\\programdata\\anaconda3\\lib\\site-packages (from tensorflow-intel==2.11.0->tensorflow) (3.19.6)\n",
      "Requirement already satisfied: numpy>=1.20 in c:\\programdata\\anaconda3\\lib\\site-packages (from tensorflow-intel==2.11.0->tensorflow) (1.20.3)\n",
      "Requirement already satisfied: wheel<1.0,>=0.23.0 in c:\\programdata\\anaconda3\\lib\\site-packages (from astunparse>=1.6.0->tensorflow-intel==2.11.0->tensorflow) (0.37.0)\n",
      "Requirement already satisfied: werkzeug>=1.0.1 in c:\\programdata\\anaconda3\\lib\\site-packages (from tensorboard<2.12,>=2.11->tensorflow-intel==2.11.0->tensorflow) (2.0.2)\n",
      "Requirement already satisfied: markdown>=2.6.8 in c:\\programdata\\anaconda3\\lib\\site-packages (from tensorboard<2.12,>=2.11->tensorflow-intel==2.11.0->tensorflow) (3.4.1)\n",
      "Requirement already satisfied: tensorboard-plugin-wit>=1.6.0 in c:\\programdata\\anaconda3\\lib\\site-packages (from tensorboard<2.12,>=2.11->tensorflow-intel==2.11.0->tensorflow) (1.8.1)\n",
      "Requirement already satisfied: google-auth-oauthlib<0.5,>=0.4.1 in c:\\programdata\\anaconda3\\lib\\site-packages (from tensorboard<2.12,>=2.11->tensorflow-intel==2.11.0->tensorflow) (0.4.6)\n",
      "Requirement already satisfied: tensorboard-data-server<0.7.0,>=0.6.0 in c:\\programdata\\anaconda3\\lib\\site-packages (from tensorboard<2.12,>=2.11->tensorflow-intel==2.11.0->tensorflow) (0.6.1)\n",
      "Requirement already satisfied: google-auth<3,>=1.6.3 in c:\\programdata\\anaconda3\\lib\\site-packages (from tensorboard<2.12,>=2.11->tensorflow-intel==2.11.0->tensorflow) (2.16.1)\n",
      "Requirement already satisfied: requests<3,>=2.21.0 in c:\\programdata\\anaconda3\\lib\\site-packages (from tensorboard<2.12,>=2.11->tensorflow-intel==2.11.0->tensorflow) (2.26.0)\n",
      "Requirement already satisfied: pyasn1-modules>=0.2.1 in c:\\programdata\\anaconda3\\lib\\site-packages (from google-auth<3,>=1.6.3->tensorboard<2.12,>=2.11->tensorflow-intel==2.11.0->tensorflow) (0.2.8)\n",
      "Requirement already satisfied: cachetools<6.0,>=2.0.0 in c:\\programdata\\anaconda3\\lib\\site-packages (from google-auth<3,>=1.6.3->tensorboard<2.12,>=2.11->tensorflow-intel==2.11.0->tensorflow) (5.3.0)\n",
      "Requirement already satisfied: rsa<5,>=3.1.4 in c:\\programdata\\anaconda3\\lib\\site-packages (from google-auth<3,>=1.6.3->tensorboard<2.12,>=2.11->tensorflow-intel==2.11.0->tensorflow) (4.9)\n",
      "Requirement already satisfied: requests-oauthlib>=0.7.0 in c:\\programdata\\anaconda3\\lib\\site-packages (from google-auth-oauthlib<0.5,>=0.4.1->tensorboard<2.12,>=2.11->tensorflow-intel==2.11.0->tensorflow) (1.3.1)\n",
      "Requirement already satisfied: importlib-metadata>=4.4 in c:\\programdata\\anaconda3\\lib\\site-packages (from markdown>=2.6.8->tensorboard<2.12,>=2.11->tensorflow-intel==2.11.0->tensorflow) (4.8.1)\n",
      "Requirement already satisfied: zipp>=0.5 in c:\\programdata\\anaconda3\\lib\\site-packages (from importlib-metadata>=4.4->markdown>=2.6.8->tensorboard<2.12,>=2.11->tensorflow-intel==2.11.0->tensorflow) (3.6.0)\n",
      "Requirement already satisfied: pyasn1<0.5.0,>=0.4.6 in c:\\programdata\\anaconda3\\lib\\site-packages (from pyasn1-modules>=0.2.1->google-auth<3,>=1.6.3->tensorboard<2.12,>=2.11->tensorflow-intel==2.11.0->tensorflow) (0.4.8)\n",
      "Requirement already satisfied: urllib3<1.27,>=1.21.1 in c:\\programdata\\anaconda3\\lib\\site-packages (from requests<3,>=2.21.0->tensorboard<2.12,>=2.11->tensorflow-intel==2.11.0->tensorflow) (1.26.7)\n",
      "Requirement already satisfied: charset-normalizer~=2.0.0 in c:\\programdata\\anaconda3\\lib\\site-packages (from requests<3,>=2.21.0->tensorboard<2.12,>=2.11->tensorflow-intel==2.11.0->tensorflow) (2.0.4)\n",
      "Requirement already satisfied: certifi>=2017.4.17 in c:\\programdata\\anaconda3\\lib\\site-packages (from requests<3,>=2.21.0->tensorboard<2.12,>=2.11->tensorflow-intel==2.11.0->tensorflow) (2021.10.8)\n",
      "Requirement already satisfied: idna<4,>=2.5 in c:\\programdata\\anaconda3\\lib\\site-packages (from requests<3,>=2.21.0->tensorboard<2.12,>=2.11->tensorflow-intel==2.11.0->tensorflow) (3.2)\n",
      "Requirement already satisfied: oauthlib>=3.0.0 in c:\\programdata\\anaconda3\\lib\\site-packages (from requests-oauthlib>=0.7.0->google-auth-oauthlib<0.5,>=0.4.1->tensorboard<2.12,>=2.11->tensorflow-intel==2.11.0->tensorflow) (3.2.2)\n",
      "Requirement already satisfied: pyparsing>=2.0.2 in c:\\programdata\\anaconda3\\lib\\site-packages (from packaging->tensorflow-intel==2.11.0->tensorflow) (3.0.4)\n",
      "Collecting moviepy\n",
      "  Using cached moviepy-1.0.3-py3-none-any.whl\n",
      "Requirement already satisfied: numpy>=1.17.3 in c:\\programdata\\anaconda3\\lib\\site-packages (from moviepy) (1.20.3)\n",
      "Requirement already satisfied: imageio<3.0,>=2.5 in c:\\programdata\\anaconda3\\lib\\site-packages (from moviepy) (2.9.0)\n",
      "Requirement already satisfied: proglog<=1.0.0 in c:\\programdata\\anaconda3\\lib\\site-packages (from moviepy) (0.1.10)\n",
      "Requirement already satisfied: tqdm<5.0,>=4.11.2 in c:\\programdata\\anaconda3\\lib\\site-packages (from moviepy) (4.62.3)\n",
      "Collecting decorator<5.0,>=4.0.2\n",
      "  Using cached decorator-4.4.2-py2.py3-none-any.whl (9.2 kB)\n",
      "Requirement already satisfied: requests<3.0,>=2.8.1 in c:\\programdata\\anaconda3\\lib\\site-packages (from moviepy) (2.26.0)\n",
      "Requirement already satisfied: imageio-ffmpeg>=0.2.0 in c:\\programdata\\anaconda3\\lib\\site-packages (from moviepy) (0.4.8)\n",
      "Requirement already satisfied: pillow in c:\\programdata\\anaconda3\\lib\\site-packages (from imageio<3.0,>=2.5->moviepy) (8.4.0)\n",
      "Requirement already satisfied: charset-normalizer~=2.0.0 in c:\\programdata\\anaconda3\\lib\\site-packages (from requests<3.0,>=2.8.1->moviepy) (2.0.4)\n",
      "Requirement already satisfied: urllib3<1.27,>=1.21.1 in c:\\programdata\\anaconda3\\lib\\site-packages (from requests<3.0,>=2.8.1->moviepy) (1.26.7)\n",
      "Requirement already satisfied: certifi>=2017.4.17 in c:\\programdata\\anaconda3\\lib\\site-packages (from requests<3.0,>=2.8.1->moviepy) (2021.10.8)\n",
      "Requirement already satisfied: idna<4,>=2.5 in c:\\programdata\\anaconda3\\lib\\site-packages (from requests<3.0,>=2.8.1->moviepy) (3.2)\n",
      "Requirement already satisfied: colorama in c:\\programdata\\anaconda3\\lib\\site-packages (from tqdm<5.0,>=4.11.2->moviepy) (0.4.4)\n",
      "Installing collected packages: decorator, moviepy\n",
      "  Attempting uninstall: decorator\n",
      "    Found existing installation: decorator 5.1.0\n",
      "    Uninstalling decorator-5.1.0:\n"
     ]
    },
    {
     "name": "stderr",
     "output_type": "stream",
     "text": [
      "ERROR: Could not install packages due to an OSError: [WinError 5] Access is denied: 'c:\\\\programdata\\\\anaconda3\\\\lib\\\\site-packages\\\\__pycache__\\\\decorator.cpython-39.pyc'\n",
      "Consider using the `--user` option or check the permissions.\n",
      "\n"
     ]
    }
   ],
   "source": [
    "!apt-get install -y xvfb python-opengl > /dev/null 2>&1\n",
    "!pip install gym pyvirtualdisplay > /dev/null 2>&1\n",
    "!pip install gym pyvirtualdisplay > /dev/null 2>&1\n",
    "!apt-get install -y xvfb python-opengl ffmpeg > /dev/null 2>&1\n",
    "!pip install gym[classic_control]\n",
    "!apt-get update > /dev/null 2>&1\n",
    "!apt-get install cmake > /dev/null 2>&1\n",
    "!pip install --upgrade setuptools 2>&1\n",
    "!pip install ez_setup > /dev/null 2>&1\n",
    "!pip install tensorflow\n",
    "!pip install moviepy"
   ]
  },
  {
   "cell_type": "markdown",
   "metadata": {},
   "source": [
    "### <font color='blue'> for mac !pip install tensorflow-macos <font>"
   ]
  },
  {
   "cell_type": "markdown",
   "metadata": {
    "id": "RwKbYeTgbaTA"
   },
   "source": [
    "## Importing dependencies and define helper functions"
   ]
  },
  {
   "cell_type": "code",
   "execution_count": 2,
   "metadata": {
    "id": "j6KpgCLGYWmj"
   },
   "outputs": [],
   "source": [
    "import gym\n",
    "from gym import logger as gymlogger\n",
    "from gym.wrappers import RecordVideo\n",
    "gymlogger.set_level(40) #error only\n",
    "import tensorflow as tf\n",
    "import numpy as np\n",
    "import random\n",
    "import matplotlib\n",
    "import matplotlib.pyplot as plt\n",
    "%matplotlib inline\n",
    "import math\n",
    "import glob\n",
    "import io\n",
    "import base64\n",
    "import time\n",
    "from IPython.display import HTML\n",
    "from IPython import display as ipythondisplay\n",
    "\n",
    "def show_video():\n",
    "  mp4list = glob.glob('video/*.mp4')\n",
    "  if len(mp4list) > 0:\n",
    "    mp4 = mp4list[0]\n",
    "    video = io.open(mp4, 'r+b').read()\n",
    "    encoded = base64.b64encode(video)\n",
    "    ipythondisplay.display(HTML(data='''<video alt=\"test\" autoplay \n",
    "                loop controls style=\"height: 400px;\">\n",
    "                <source src=\"data:video/mp4;base64,{0}\" type=\"video/mp4\" />\n",
    "             </video>'''.format(encoded.decode('ascii'))))\n",
    "  else: \n",
    "    print(\"Could not find video\")"
   ]
  },
  {
   "cell_type": "markdown",
   "metadata": {
    "id": "ehbqP9CXbmo7"
   },
   "source": [
    "## Tutorial: Loading CartPole environment"
   ]
  },
  {
   "cell_type": "code",
   "execution_count": 3,
   "metadata": {
    "id": "Go12dH4qbwBy"
   },
   "outputs": [],
   "source": [
    "env = gym.make(\"CartPole-v1\")"
   ]
  },
  {
   "cell_type": "code",
   "execution_count": 4,
   "metadata": {},
   "outputs": [
    {
     "name": "stdout",
     "output_type": "stream",
     "text": [
      "Help on TimeLimit in module gym.wrappers.time_limit object:\n",
      "\n",
      "class TimeLimit(gym.core.Wrapper)\n",
      " |  TimeLimit(env: gym.core.Env, max_episode_steps: Optional[int] = None)\n",
      " |  \n",
      " |  This wrapper will issue a `truncated` signal if a maximum number of timesteps is exceeded.\n",
      " |  \n",
      " |  If a truncation is not defined inside the environment itself, this is the only place that the truncation signal is issued.\n",
      " |  Critically, this is different from the `terminated` signal that originates from the underlying environment as part of the MDP.\n",
      " |  \n",
      " |  Example:\n",
      " |     >>> from gym.envs.classic_control import CartPoleEnv\n",
      " |     >>> from gym.wrappers import TimeLimit\n",
      " |     >>> env = CartPoleEnv()\n",
      " |     >>> env = TimeLimit(env, max_episode_steps=1000)\n",
      " |  \n",
      " |  Method resolution order:\n",
      " |      TimeLimit\n",
      " |      gym.core.Wrapper\n",
      " |      gym.core.Env\n",
      " |      typing.Generic\n",
      " |      builtins.object\n",
      " |  \n",
      " |  Methods defined here:\n",
      " |  \n",
      " |  __init__(self, env: gym.core.Env, max_episode_steps: Optional[int] = None)\n",
      " |      Initializes the :class:`TimeLimit` wrapper with an environment and the number of steps after which truncation will occur.\n",
      " |      \n",
      " |      Args:\n",
      " |          env: The environment to apply the wrapper\n",
      " |          max_episode_steps: An optional max episode steps (if ``Ǹone``, ``env.spec.max_episode_steps`` is used)\n",
      " |  \n",
      " |  reset(self, **kwargs)\n",
      " |      Resets the environment with :param:`**kwargs` and sets the number of steps elapsed to zero.\n",
      " |      \n",
      " |      Args:\n",
      " |          **kwargs: The kwargs to reset the environment with\n",
      " |      \n",
      " |      Returns:\n",
      " |          The reset environment\n",
      " |  \n",
      " |  step(self, action)\n",
      " |      Steps through the environment and if the number of steps elapsed exceeds ``max_episode_steps`` then truncate.\n",
      " |      \n",
      " |      Args:\n",
      " |          action: The environment step action\n",
      " |      \n",
      " |      Returns:\n",
      " |          The environment step ``(observation, reward, terminated, truncated, info)`` with `truncated=True`\n",
      " |          if the number of steps elapsed >= max episode steps\n",
      " |  \n",
      " |  ----------------------------------------------------------------------\n",
      " |  Data and other attributes defined here:\n",
      " |  \n",
      " |  __parameters__ = ()\n",
      " |  \n",
      " |  ----------------------------------------------------------------------\n",
      " |  Methods inherited from gym.core.Wrapper:\n",
      " |  \n",
      " |  __getattr__(self, name)\n",
      " |      Returns an attribute with ``name``, unless ``name`` starts with an underscore.\n",
      " |  \n",
      " |  __repr__(self)\n",
      " |      Returns the string representation of the wrapper.\n",
      " |  \n",
      " |  __str__(self)\n",
      " |      Returns the wrapper name and the unwrapped environment string.\n",
      " |  \n",
      " |  close(self)\n",
      " |      Closes the environment.\n",
      " |  \n",
      " |  render(self, *args, **kwargs) -> Union[~RenderFrame, List[~RenderFrame], NoneType]\n",
      " |      Renders the environment.\n",
      " |  \n",
      " |  ----------------------------------------------------------------------\n",
      " |  Class methods inherited from gym.core.Wrapper:\n",
      " |  \n",
      " |  class_name() from builtins.type\n",
      " |      Returns the class name of the wrapper.\n",
      " |  \n",
      " |  ----------------------------------------------------------------------\n",
      " |  Readonly properties inherited from gym.core.Wrapper:\n",
      " |  \n",
      " |  render_mode\n",
      " |      Returns the environment render_mode.\n",
      " |  \n",
      " |  spec\n",
      " |      Returns the environment specification.\n",
      " |  \n",
      " |  unwrapped\n",
      " |      Returns the base environment of the wrapper.\n",
      " |  \n",
      " |  ----------------------------------------------------------------------\n",
      " |  Data descriptors inherited from gym.core.Wrapper:\n",
      " |  \n",
      " |  action_space\n",
      " |      Returns the action space of the environment.\n",
      " |  \n",
      " |  metadata\n",
      " |      Returns the environment metadata.\n",
      " |  \n",
      " |  np_random\n",
      " |      Returns the environment np_random.\n",
      " |  \n",
      " |  observation_space\n",
      " |      Returns the observation space of the environment.\n",
      " |  \n",
      " |  reward_range\n",
      " |      Return the reward range of the environment.\n",
      " |  \n",
      " |  ----------------------------------------------------------------------\n",
      " |  Data and other attributes inherited from gym.core.Wrapper:\n",
      " |  \n",
      " |  __orig_bases__ = (gym.core.Env[~ObsType, ~ActType],)\n",
      " |  \n",
      " |  ----------------------------------------------------------------------\n",
      " |  Methods inherited from gym.core.Env:\n",
      " |  \n",
      " |  __enter__(self)\n",
      " |      Support with-statement for the environment.\n",
      " |  \n",
      " |  __exit__(self, *args)\n",
      " |      Support with-statement for the environment.\n",
      " |  \n",
      " |  ----------------------------------------------------------------------\n",
      " |  Data descriptors inherited from gym.core.Env:\n",
      " |  \n",
      " |  __dict__\n",
      " |      dictionary for instance variables (if defined)\n",
      " |  \n",
      " |  __weakref__\n",
      " |      list of weak references to the object (if defined)\n",
      " |  \n",
      " |  ----------------------------------------------------------------------\n",
      " |  Data and other attributes inherited from gym.core.Env:\n",
      " |  \n",
      " |  __annotations__ = {'_np_random': typing.Optional[numpy.random._generat...\n",
      " |  \n",
      " |  ----------------------------------------------------------------------\n",
      " |  Class methods inherited from typing.Generic:\n",
      " |  \n",
      " |  __class_getitem__(params) from builtins.type\n",
      " |  \n",
      " |  __init_subclass__(*args, **kwargs) from builtins.type\n",
      " |      This method is called when a class is subclassed.\n",
      " |      \n",
      " |      The default implementation does nothing. It may be\n",
      " |      overridden to extend subclasses.\n",
      "\n"
     ]
    }
   ],
   "source": [
    "help(env)"
   ]
  },
  {
   "cell_type": "markdown",
   "metadata": {
    "id": "9XZ9g3xrcAXE"
   },
   "source": [
    "We can check the action and observation space of this environment. Discrete(2) means that there are two valid discrete actions: 0 & 1."
   ]
  },
  {
   "cell_type": "code",
   "execution_count": 5,
   "metadata": {
    "colab": {
     "base_uri": "https://localhost:8080/"
    },
    "id": "ytxvVmLdcRyw",
    "outputId": "1ce07099-492b-4126-a792-8ff12d79c2db"
   },
   "outputs": [
    {
     "name": "stdout",
     "output_type": "stream",
     "text": [
      "Discrete(2)\n"
     ]
    }
   ],
   "source": [
    "print(env.action_space)"
   ]
  },
  {
   "cell_type": "markdown",
   "metadata": {
    "id": "pVXGWi_Ncfg-"
   },
   "source": [
    "The observation space is given below. The first two arrays define the min and max values of the 4 observed values, corresponding to cart position, velocity and pole angle, angular velocity."
   ]
  },
  {
   "cell_type": "code",
   "execution_count": 6,
   "metadata": {
    "colab": {
     "base_uri": "https://localhost:8080/"
    },
    "id": "DyqHr9I5cdkX",
    "outputId": "369a0733-e7c0-4bca-b427-5e1c603ff074"
   },
   "outputs": [
    {
     "name": "stdout",
     "output_type": "stream",
     "text": [
      "Box([-4.8000002e+00 -3.4028235e+38 -4.1887903e-01 -3.4028235e+38], [4.8000002e+00 3.4028235e+38 4.1887903e-01 3.4028235e+38], (4,), float32)\n"
     ]
    }
   ],
   "source": [
    "print(env.observation_space)"
   ]
  },
  {
   "cell_type": "markdown",
   "metadata": {
    "id": "HFOdaU2Gdyg0"
   },
   "source": [
    "We call each round of the pole-balancing game an \"episode\". At the start of each episode, make sure the environment is reset, which chooses a random initial state, e.g., pole slightly tilted to the right. This initialization can be achieved by the code below, which returns the observation of the initial state."
   ]
  },
  {
   "cell_type": "code",
   "execution_count": 7,
   "metadata": {
    "colab": {
     "base_uri": "https://localhost:8080/"
    },
    "id": "VMr6qAqxdOsm",
    "outputId": "0e35ee3b-15d0-4e1f-926c-194a5a43f830"
   },
   "outputs": [
    {
     "name": "stdout",
     "output_type": "stream",
     "text": [
      "Initial observations: (array([-0.04217904,  0.02363899, -0.03784048, -0.0446048 ], dtype=float32), {})\n"
     ]
    }
   ],
   "source": [
    "observation = env.reset()\n",
    "\n",
    "print(\"Initial observations:\", observation)"
   ]
  },
  {
   "cell_type": "markdown",
   "metadata": {
    "id": "qnG2QdfbeZrI"
   },
   "source": [
    "For the CartPole environment, there are two possible actions: 0 for pushing to the left and 1 for pushing to the right. For example, we can push the cart to the left using code below, which returns the new observation, the current reward, an indicator of whether the game ends, and some additional information (not used in this project). For CartPole, the game ends when the pole is significantly tilted or you manage to balance the pole for 500 steps. You get exactly 1 reward for each step before the game ends (i.e., max cumulative reward is 500)."
   ]
  },
  {
   "cell_type": "markdown",
   "metadata": {},
   "source": [
    "The **episode ends** if any one of the following occurs:<br>\n",
    "**Termination**: Cart Position is greater than ±2.4 (center of the cart reaches the edge of the display) <br>\n",
    "**Termination**: Pole Angle is greater than ±12° (±0.20944 rad)<br>\n",
    "**Truncation**: Episode length is greater than 500.\n"
   ]
  },
  {
   "cell_type": "code",
   "execution_count": 8,
   "metadata": {
    "colab": {
     "base_uri": "https://localhost:8080/"
    },
    "id": "MmfMDvyYdWGk",
    "outputId": "fa12ffd8-6707-4cbc-fb86-aef8484d5d17"
   },
   "outputs": [
    {
     "name": "stdout",
     "output_type": "stream",
     "text": [
      "New observations after choosing action 0: [-0.04170626  0.21928255 -0.03873257 -0.3489825 ]\n",
      "Reward for this step: 1.0\n",
      "Is this round terminated? False\n",
      "Is this round truncated? False\n"
     ]
    }
   ],
   "source": [
    "# step(x): Choose an action (0 or 1)\n",
    "observation, reward, terminated, truncated, info = env.step(1)\n",
    "\n",
    "# Observation: Cart Position, Cart Velocity, Pole Angle, Pole Velocity At Tip\n",
    "print(\"New observations after choosing action 0:\", observation)\n",
    "\n",
    "# Reward: 1 for every step taken, including the termination step\n",
    "print(\"Reward for this step:\", reward)\n",
    "\n",
    "# Termination: Cart Position is greater than ±2.4 (center of the cart reaches the edge of the display)\n",
    "# Termination: Pole Angle is greater than ±12° (±0.20944 rad)\n",
    "print(\"Is this round terminated?\", terminated)\n",
    "\n",
    "# Truncation: Episode length is greater than 500\n",
    "print(\"Is this round truncated?\", truncated)"
   ]
  },
  {
   "cell_type": "markdown",
   "metadata": {
    "id": "tj0zCh59fhBb"
   },
   "source": [
    "Now we can play a full round of the game using a naive strategy (always choosing action 0), and show the cumulative reward in the round. Note that reward returned by env.step(*) corresponds to the reward for current step. So we have to accumulate the reward for each step. Clearly, the naive strategy performs poorly by surviving only a dozen of steps."
   ]
  },
  {
   "cell_type": "code",
   "execution_count": 9,
   "metadata": {
    "colab": {
     "base_uri": "https://localhost:8080/"
    },
    "id": "AVucQVRwf6Jm",
    "outputId": "72f0b7d5-7cb5-4e37-da3d-997c1bfb4641"
   },
   "outputs": [
    {
     "name": "stdout",
     "output_type": "stream",
     "text": [
      "\t\t\t\t\tCart Position, Cart Velocity, Pole Angle, Pole Velocity At Tip\n",
      "New observations after choosing action 0: [-0.04642269 -0.20201088  0.0459074   0.27570263]\n",
      "New observations after choosing action 1: [-0.05046291 -0.39775673  0.05142145  0.58250403]\n",
      "New observations after choosing action 2: [-0.05841805 -0.59356     0.06307153  0.89093196]\n",
      "New observations after choosing action 3: [-0.07028925 -0.7894783   0.08089017  1.2027558 ]\n",
      "New observations after choosing action 4: [-0.08607881 -0.98554754  0.10494529  1.5196539 ]\n",
      "New observations after choosing action 5: [-0.10578976 -1.18177     0.13533837  1.8431655 ]\n",
      "New observations after choosing action 6: [-0.12942517 -1.3781005   0.17220168  2.1746366 ]\n",
      "New observations after choosing action 7: [-0.15698718 -1.5744313   0.21569441  2.5151544 ]\n",
      "Cumulative reward for this round: 8.0\n",
      "Is this round terminated? True\n",
      "Is this round truncated? False\n"
     ]
    }
   ],
   "source": [
    "observation = env.reset()\n",
    "cumulative_reward = 0\n",
    "truncated = terminated = False\n",
    "\n",
    "# Putting trunctated only will result in a 500 episode lenth before it terminates\n",
    "print(\"\\t\\t\\t\\t\\tCart Position, Cart Velocity, Pole Angle, Pole Velocity At Tip\")\n",
    "\n",
    "while not (truncated or terminated):\n",
    "    observation, reward, terminated,truncated, info = env.step(0)\n",
    "    print(f\"New observations after choosing action {int(cumulative_reward)}:\", observation)\n",
    "    cumulative_reward += reward\n",
    "print(\"Cumulative reward for this round:\", cumulative_reward)\n",
    "print(\"Is this round terminated?\", terminated)\n",
    "print(\"Is this round truncated?\", truncated)"
   ]
  },
  {
   "cell_type": "markdown",
   "metadata": {},
   "source": [
    "# Sample Codes"
   ]
  },
  {
   "cell_type": "markdown",
   "metadata": {
    "id": "2oIzK9SzhlWN"
   },
   "source": [
    "## Task 1: Development of an RL agent"
   ]
  },
  {
   "cell_type": "markdown",
   "metadata": {
    "id": "Cc6_e5c_huiq"
   },
   "source": [
    "An example of a naive agent is given below, which randomly chooses an action regardless of the observation:"
   ]
  },
  {
   "cell_type": "code",
   "execution_count": 10,
   "metadata": {
    "id": "Hk-M4QEfh6l5"
   },
   "outputs": [],
   "source": [
    "def rand_policy_agent(observation):\n",
    "    return random.randint(0, 1)"
   ]
  },
  {
   "cell_type": "markdown",
   "metadata": {
    "id": "RAi7KKwNiegR"
   },
   "source": [
    "For Task 1, we can show the observation and chosen action below:"
   ]
  },
  {
   "cell_type": "code",
   "execution_count": 11,
   "metadata": {
    "colab": {
     "base_uri": "https://localhost:8080/"
    },
    "id": "ae2ia-vUiNKJ",
    "outputId": "22c614ca-5ba0-43d3-d27a-d79073b5d04e"
   },
   "outputs": [
    {
     "name": "stdout",
     "output_type": "stream",
     "text": [
      "Observation: (array([-0.02861954, -0.01936156, -0.02311826, -0.03346679], dtype=float32), {})\n",
      "Chosen action: 0\n"
     ]
    }
   ],
   "source": [
    "observation = env.reset()\n",
    "action = rand_policy_agent(observation)\n",
    "print(\"Observation:\", observation)\n",
    "print(\"Chosen action:\", action)"
   ]
  },
  {
   "cell_type": "markdown",
   "metadata": {
    "id": "-XtIQ0Rti1gm"
   },
   "source": [
    "## Task 2: Demonstrate the effectiveness of the RL agent"
   ]
  },
  {
   "cell_type": "markdown",
   "metadata": {
    "id": "djBEShf0kGI4"
   },
   "source": [
    "For this task, use the agent developed in Task 1 to play the game for 100 episodes (refer to tutorial for how to play a round), record the cumulative reward for each round, and plot the reward for each round. A sample plotting code is given below. Note that you must include code to play for 100 episodes and use the code to obtain round_results for plotting. DO NOT record the round results in advance and paste the results to the notebook."
   ]
  },
  {
   "cell_type": "code",
   "execution_count": 12,
   "metadata": {
    "colab": {
     "base_uri": "https://localhost:8080/",
     "height": 295
    },
    "id": "RZrCKywQi6CE",
    "outputId": "e304ecc5-14b6-4cf1-831b-dcb42eb46351"
   },
   "outputs": [
    {
     "name": "stdout",
     "output_type": "stream",
     "text": [
      "[249 168 206 199 171 234 150 229 246 187 161 168 169 157 247 200 209 211\n",
      " 186 246 151 201 181 163 243 192 160 173 174 218 213 168 194 196 247 183\n",
      " 203 180 152 238 159 176 206 207 165 167 183 181 185 225 158 244 226 225\n",
      " 166 197 172 160 247 178 236 195 175 198 228 228 204 205 214 219 188 237\n",
      " 249 238 167 215 151 215 240 164 249 219 165 163 152 179 203 247 227 162\n",
      " 156 160 202 150 182 169 248 179 241 152]\n"
     ]
    },
    {
     "data": {
      "image/png": "[encoded data removed]",
      "text/plain": [
       "<Figure size 640x480 with 1 Axes>"
      ]
     },
     "metadata": {},
     "output_type": "display_data"
    }
   ],
   "source": [
    "episode_results = np.random.randint(150, 250, size=100)\n",
    "print(episode_results)\n",
    "plt.plot(episode_results)\n",
    "plt.title('Cumulative reward for each episode')\n",
    "plt.ylabel('Cumulative reward')\n",
    "plt.xlabel('episode')\n",
    "plt.show()"
   ]
  },
  {
   "cell_type": "markdown",
   "metadata": {
    "id": "XndSYH7wlvn7"
   },
   "source": [
    "Print the average reward over the 100 episodes."
   ]
  },
  {
   "cell_type": "code",
   "execution_count": 13,
   "metadata": {
    "colab": {
     "base_uri": "https://localhost:8080/"
    },
    "id": "pOiOp9OYlo5Y",
    "outputId": "7a02ba7b-ff17-41f2-aa7f-eb50d49a83fd"
   },
   "outputs": [
    {
     "name": "stdout",
     "output_type": "stream",
     "text": [
      "Average cumulative reward: 196.21\n",
      "Is my agent good enough? True\n"
     ]
    }
   ],
   "source": [
    "print(\"Average cumulative reward:\", episode_results.mean())\n",
    "print(\"Is my agent good enough?\", episode_results.mean() > 195)"
   ]
  },
  {
   "cell_type": "markdown",
   "metadata": {
    "id": "Yg0DCT38lFA6"
   },
   "source": [
    "## Task 3: Render one episode played by the agent"
   ]
  },
  {
   "cell_type": "markdown",
   "metadata": {
    "id": "vx1awMr9lc_w"
   },
   "source": [
    "Plug your agent to the code below to obtain rendered result."
   ]
  },
  {
   "cell_type": "code",
   "execution_count": 14,
   "metadata": {
    "colab": {
     "base_uri": "https://localhost:8080/",
     "height": 421
    },
    "id": "LYyavfbIa47D",
    "outputId": "10c2f1e7-f3b9-4975-ed25-7c380966a56c"
   },
   "outputs": [
    {
     "name": "stdout",
     "output_type": "stream",
     "text": [
      "Could not find video\n"
     ]
    }
   ],
   "source": [
    "env = RecordVideo(gym.make(\"CartPole-v1\",render_mode = \"human\"),\"./video\")\n",
    "\n",
    "# run for 10 episodes\n",
    "for episode in range(10):\n",
    "  observation = env.reset()\n",
    "  while True:\n",
    "      env.render()\n",
    "      #your agent goes here\n",
    "      action = rand_policy_agent(observation)\n",
    "      observation, reward, terminated,truncated, info = env.step(action) \n",
    "      if terminated: \n",
    "        break;    \n",
    "env.close()\n",
    "show_video()"
   ]
  },
  {
   "cell_type": "markdown",
   "metadata": {},
   "source": [
    "# <font color='lightgreen'> Our implementation </font>\n",
    "\n",
    "We selected the \"Q Learning\" model-free, off-policy reinforcement learning that will find the best course of action, given the current state of the agent. \n"
   ]
  },
  {
   "cell_type": "markdown",
   "metadata": {},
   "source": [
    "## Task 1: Development of an RL agent"
   ]
  },
  {
   "cell_type": "markdown",
   "metadata": {},
   "source": [
    "### Steps to construct our Q-Learning Algorithm: \n",
    "\n",
    "1. Create and define our Q table\n",
    "    - A funciton to create a Q-Table\n",
    "    - The function should return a tuple of the with bins of the 4 observed values, corresponding to cart position, velocity and pole angle, angular velocity.<br>\n",
    "    \n",
    "\n",
    "2. Conduct binning to create discrete intervals to faciliate discretisation of our continuous observation space. <br>\n",
    "\n",
    "3. Convert the continuous state space using the user-defined function Discrete(state,bins) \n",
    "\n",
    "4. Define our Q-Learning Algorithm \n",
    "\n",
    "5. Train and define the RL agent"
   ]
  },
  {
   "cell_type": "code",
   "execution_count": 28,
   "metadata": {},
   "outputs": [],
   "source": [
    "#PREPARATION\n",
    "#Make the cartpole environment \n",
    "env = gym.make('CartPole-v1')\n",
    "#Set our bin size to be 30 so that are are reasonably size intervals for discretisation\n",
    "bin_size = 30"
   ]
  },
  {
   "cell_type": "markdown",
   "metadata": {},
   "source": [
    "### Step 1: Create a Q-table \n",
    "\n",
    "- Our Q-table has rows containing all potential combinations of dicretised states and columns containing all possible actions. \n",
    "\n",
    "- Including all possible combinations of states and actions gives rise to a table shape of [bin_size] * state_space + [action_space] \n",
    "<br>--> which is [30 30 30 30 2] in our case as we have chosen bin size to be 30.\n",
    "\n",
    "- Subsequently, this Q-table will be referenced to obtain Q-values that are indicators for the agent to determine the best action to be taken when it is in a particular state. \n",
    "\n",
    "- The agent would scan the Q-table for the highest Q-value or Q(s,a), and follow that action.\n",
    "\n",
    "- The following is a simplified pictorial visualisation of our Q-table:  \n",
    "![2023-02-28%2023.20.15.jpg](attachment:2023-02-28%2023.20.15.jpg)\n",
    "\n",
    "\n",
    "If you are unable to view the image, click on this link: https://drive.google.com/file/d/1sEFHfRqSKNzjuImNIIxuggws1mHqh8lz/view?usp=sharing"
   ]
  },
  {
   "cell_type": "code",
   "execution_count": 29,
   "metadata": {},
   "outputs": [],
   "source": [
    "#FUNCTION TO CREATE AND INITIALIZE Q-TABLE\n",
    "def CreateQtable(state_space,action_space,bin_size):\n",
    "    #Create our Q-table of size [30 30 30 30 2]\n",
    "    #Initialize the entire table to 0 for to allow the agent to begin with randomness\n",
    "    #After training, the agent will then update these Q-table entries to updated Q-values \n",
    "    #np.zeros(): returns an array of zeros with the passed in shape\n",
    "    q_table = np.zeros(shape=([bin_size] * state_space + [action_space]))\n",
    "    return q_table\n",
    "\n",
    "#CREATE THE Q-TABLE \n",
    "q_table = CreateQtable(len(env.observation_space.low),env.action_space.n, bin_size) "
   ]
  },
  {
   "cell_type": "markdown",
   "metadata": {},
   "source": [
    "### Step 2: Binning \n",
    "\n",
    "- To ensure efficiency and functionality, the size of our Q-table is bounded time and space restrictions. <br> \n",
    "\n",
    "- This signifies that we are unable to cater to CartPole-v1's continuous observation space. Therefore, we have to create bins or pre-defined intervals in which every continuous state value can fall under. <br> \n",
    "\n",
    "- Such bins would help to facilitate the discretization of continous states into discrete states and enable us to create a reasonably-sized Q-table. <br> \n",
    "\n",
    "The following diagram describes how the binning process works: \n",
    "![2023-02-28%2023.20.21.jpg](attachment:2023-02-28%2023.20.21.jpg)\n",
    "\n",
    "If you are unable to view the image, click on this link: https://drive.google.com/file/d/1C8HYvZc0jKHtKTguyVrQc6y2s4nBxaeB/view?usp=sharing"
   ]
  },
  {
   "cell_type": "code",
   "execution_count": 30,
   "metadata": {},
   "outputs": [],
   "source": [
    "#FUNCTION TO CREATE BINS FOR EACH STATE (cart position, velocity and pole angle, angular velocity)\n",
    "def CreateBins(bin_size): \n",
    "    #np.linspace(): returns evenly spaced numbers over a specified interval\n",
    "    #syntax: np.linspace(start_val, end_val, num_of_samples_generated) \n",
    "    #We chose the start_val and end_val here to be the upper and lower limits for each state \n",
    "    bins = [np.linspace(-4.8,4.8,bin_size),\n",
    "            np.linspace(-4,4,bin_size),\n",
    "            np.linspace(-0.418,0.418,bin_size),\n",
    "            np.linspace(-4,4,bin_size)]\n",
    "    return bins \n",
    "\n",
    "#CREATE BINS \n",
    "bins = CreateBins(bin_size) "
   ]
  },
  {
   "cell_type": "markdown",
   "metadata": {},
   "source": [
    "### Step 3: Discretizing of continuous observation space\n",
    "\n",
    "- To convert our continuous observation space into a discrete observation space, we made use of the np.digitize() function. <br> \n",
    "\n",
    "- The function helps us to categorise the states values into their respective bins according to the range in which their value falls into <br> \n",
    "\n",
    "The following diagram explains how np.digitize() works: \n",
    "![IMG_0419.jpg](attachment:IMG_0419.jpg)\n",
    "\n",
    "If you are unable to view the image, click on this link: https://drive.google.com/file/d/103SX3hlmuZUlrBDVKRVyJemzqIDstJA-/view?usp=sharing"
   ]
  },
  {
   "cell_type": "code",
   "execution_count": 11,
   "metadata": {},
   "outputs": [],
   "source": [
    "# Discretize the state\n",
    "def Discrete(state, bins):\n",
    "\n",
    "    index = []\n",
    "\n",
    "    #np.digitize(): return the indices of the bins to which each value in input array belongs.\n",
    "    #syntax: np.digitize(x, bins) -- where x = input array to be binned, bins = array of bins\n",
    "    for i in range(len(state)): \n",
    "        index.append(np.digitize(state[i],bins[i]) - 1)\n",
    "\n",
    "    return tuple(index)"
   ]
  },
  {
   "cell_type": "markdown",
   "metadata": {},
   "source": [
    "### Step 4: Definining the Q-Learning Algorithm\n",
    "\n",
    "- Firstly, the algorithm will begin by discretising the current state to facilitate searching up the Q-table thereafter \n",
    "- If the episode is neither terminated nor truncated, the agent proceeds to choose between exploring or exploiting the current Q-table under the Epsilon-Greedy policy \n",
    "\n",
    "The following explains the use of epsilon in our Q-Learning Algorithm: \n",
    "![2023-02-28%2023.20.18.jpg](attachment:2023-02-28%2023.20.18.jpg)"
   ]
  },
  {
   "cell_type": "markdown",
   "metadata": {},
   "source": [
    "- The agent proceed to take the chosen action, discretize the next state and calculate the rewards earned\n",
    "\n",
    "\n",
    "Then, we have to update the Q-table using the Temporal Difference formula : \n",
    "\n",
    "![2023-02-28%2023.20.10.jpg](attachment:2023-02-28%2023.20.10.jpg)\n",
    "\n",
    "\n",
    "If you are unable to view the images, click on these links: \n",
    "- https://drive.google.com/file/d/1J7A6FEZ9TwVuwoH1SUw7yYRrQDFsRIZJ/view?usp=sharing\n",
    "- https://drive.google.com/file/d/1kGrNWPjbeFVheQ5ca4f8GwrOPBUDs7ae/view?usp=share_link"
   ]
  },
  {
   "cell_type": "code",
   "execution_count": 39,
   "metadata": {},
   "outputs": [],
   "source": [
    "def Q_learning(q_table, bins, episodes, gamma, lr, epsilon):\n",
    "\n",
    "    show_every = 100 \n",
    "    rewards = 0\n",
    "    steps = 0 \n",
    "    runs = [0]\n",
    "    solved = False\n",
    "\n",
    "    #start_epsilon_decaying = 1 \n",
    "    #end_epsilon_decaying = episodes//2 \n",
    "    #epsilon_decay_value = epsilon/(end_epsilon_decaying - start_epsilon_decaying)\n",
    "    \n",
    "    for episode in range(episodes):\n",
    "        \n",
    "        q_table, score, steps = execute_episode(q_table, bins, gamma, lr, epsilon, True)\n",
    "\n",
    "        rewards += score\n",
    "        runs.append(score)\n",
    "        if score > 195 and steps >= 100 and solved == False: # considered as a solved:\n",
    "            solved = True\n",
    "            print('Solved in episode : {}'.format(episode))\n",
    "            print(\"Episode, Steps, Score, Rewards: {}, {}, {}, {}\".format(episode, steps, score, rewards))\n",
    "            print(\"Terminated? {}, Truncated? {}\".format(terminated, truncated))\n",
    "   \n",
    "        #if end_epsilon_decaying >= episode >= start_epsilon_decaying: \n",
    "            # epsilon -= epsilon_decay_value\n",
    "        \n",
    "    print('Training Complete')\n",
    "\n",
    "env.close()\n"
   ]
  },
  {
   "cell_type": "markdown",
   "metadata": {},
   "source": [
    "#### Generating the Episodes\n",
    "\n",
    "To actually generate the episodes, we use the execute_episode() function, which uses different methods for when we're training the model, or testing it, this is done through the training parameter, where modification of the q_table is locked by the training parameter.\n",
    "\n",
    "We evaluate only the next state, and we update the Q Table based on the reward achieved from generating the next state. "
   ]
  },
  {
   "cell_type": "code",
   "execution_count": 40,
   "metadata": {},
   "outputs": [],
   "source": [
    "#Generates an episode based on the current policy from the Q Table\n",
    "\n",
    "def execute_episode(q_table, bins, gamma, lr, epsilon, training):\n",
    "        current_state = Discrete(env.reset()[0],bins) # initial observation\n",
    "        score = steps = 0\n",
    "        terminated = truncated =  False\n",
    "        \n",
    "        while not (terminated or truncated):\n",
    "\n",
    "            steps += 1 \n",
    "\n",
    "            # Epsilon-greedy policy \n",
    "            if np.random.uniform(0,1) < epsilon and training == True: \n",
    "                # explore \n",
    "                action = env.action_space.sample()\n",
    "            else: \n",
    "                # exploit \n",
    "                action = np.argmax(q_table[current_state])\n",
    "            \n",
    "            # Take action\n",
    "            observation, reward, terminated, truncated, info = env.step(action)\n",
    "            next_state = Discrete(observation,bins)\n",
    "\n",
    "            score += reward\n",
    "            \n",
    "            #if episode%show_every == 0:\n",
    "                #env.render()\n",
    "\n",
    "            # Update Q-Table if in training mode\n",
    "            if (not (terminated or truncated)) and training == True:\n",
    "                # Find the maximum Q-value for the next state\n",
    "                max_future_q = np.max(q_table[next_state])\n",
    "                # Get the current Q-value for the current state\n",
    "                current_q = q_table[current_state+(action,)]\n",
    "                # Calculate the new Q-value via Temporal Difference\n",
    "                new_q = (1-lr)*current_q + lr*(reward + gamma*max_future_q)\n",
    "                # Assign new Q-value to the Q-table\n",
    "                q_table[current_state+(action,)] = new_q\n",
    "\n",
    "            # Update the current state\n",
    "            current_state = next_state\n",
    "            \n",
    "        if training == True:\n",
    "            return q_table, score, steps\n",
    "        else:\n",
    "            return score, steps"
   ]
  },
  {
   "cell_type": "markdown",
   "metadata": {},
   "source": [
    "### Step 5: Train and Define the Reinforcement Learning (RL) Agent \n",
    "\n",
    "- As the RL agent needs to learn from experience, we will train the agent by running the algorithm for 10000 episodes. \n",
    "- Due to the presence of an epsilon, the RL Agent will continuously explore and exploit such that the Q-table gradually contains values that are able to accurately \"point out\" optimal actions for the agent to take at every state "
   ]
  },
  {
   "cell_type": "code",
   "execution_count": 41,
   "metadata": {},
   "outputs": [
    {
     "name": "stdout",
     "output_type": "stream",
     "text": [
      "Solved in episode : 660\n",
      "Episode, Steps, Score, Rewards: 660, 203, 203.0, 16551.0\n",
      "Terminated? True, Truncated? False\n",
      "Training Complete\n"
     ]
    }
   ],
   "source": [
    "#Genereate q table with bins\n",
    "q_table, bins = Qtable((env.observation_space.shape[0]), env.action_space.n)\n",
    "\n",
    "# Train the agent\n",
    "Q_learning(q_table, bins, lr = 0.15, gamma = 0.995, episodes = 10*10**3, epsilon= 0.2)\n"
   ]
  },
  {
   "cell_type": "code",
   "execution_count": 14,
   "metadata": {},
   "outputs": [],
   "source": [
    "def q_policy_agent(observation, q_table, bins):\n",
    "    return np.argmax(q_table[Discrete(observation,bins)])"
   ]
  },
  {
   "cell_type": "markdown",
   "metadata": {},
   "source": [
    "For Task 1, we can show the observation and chosen action below:"
   ]
  },
  {
   "cell_type": "code",
   "execution_count": 24,
   "metadata": {},
   "outputs": [
    {
     "name": "stdout",
     "output_type": "stream",
     "text": [
      "Observation: (array([ 0.03722371,  0.00134618, -0.01223239,  0.0085352 ], dtype=float32), {})\n",
      "Chosen action: 0\n"
     ]
    }
   ],
   "source": [
    "observation = env.reset()\n",
    "action = q_policy_agent(observation[0], q_table, bins)\n",
    "print(\"Observation:\", observation)\n",
    "print(\"Chosen action:\", action)"
   ]
  },
  {
   "cell_type": "markdown",
   "metadata": {},
   "source": [
    "## Task 2: Demonstrate the effectiveness of the RL agent"
   ]
  },
  {
   "cell_type": "markdown",
   "metadata": {},
   "source": [
    "For this task, use the agent developed in Task 1 to play the game for 100 episodes (refer to tutorial for how to play a round), record the cumulative reward for each round, and plot the reward for each round. A sample plotting code is given below. Note that you must include code to play for 100 episodes and use the code to obtain round_results for plotting. DO NOT record the round results in advance and paste the results to the notebook."
   ]
  },
  {
   "cell_type": "code",
   "execution_count": 42,
   "metadata": {},
   "outputs": [
    {
     "data": {
      "image/png": "[encoded data removed]",
      "text/plain": [
       "<Figure size 432x288 with 1 Axes>"
      ]
     },
     "metadata": {
      "needs_background": "light"
     },
     "output_type": "display_data"
    }
   ],
   "source": [
    "# Test the agent\n",
    "episode_results = {'episode':[],'rewards':[]}\n",
    "\n",
    "for i in range(100):\n",
    "    rewards = 0\n",
    "    episode = 1\n",
    "    score, steps = execute_episode(q_table, bins, 0, 0, 0, False)\n",
    "    rewards += score\n",
    "    episode += 1\n",
    "    # Update the score\n",
    "    episode_results['rewards'].append(rewards)\n",
    "    episode_results['episode'].append(episode)\n",
    "\n",
    "\n",
    "plt.plot(episode_results['rewards'])\n",
    "plt.title('Cumulative reward for each episode')\n",
    "plt.ylabel('Cumulative reward')\n",
    "plt.xlabel('episode')\n",
    "plt.show()\n"
   ]
  },
  {
   "cell_type": "markdown",
   "metadata": {},
   "source": [
    "Print the average reward over the 100 episodes."
   ]
  },
  {
   "cell_type": "code",
   "execution_count": 38,
   "metadata": {},
   "outputs": [
    {
     "name": "stdout",
     "output_type": "stream",
     "text": [
      "Average cumulative reward: 230.24\n",
      "Is my agent good enough? True\n"
     ]
    }
   ],
   "source": [
    "print(\"Average cumulative reward:\", np.array(episode_results['rewards']).mean())\n",
    "print(\"Is my agent good enough?\", np.array(episode_results['rewards']).mean() > 195)"
   ]
  },
  {
   "cell_type": "markdown",
   "metadata": {},
   "source": [
    "## Task 3: Render one episode played by the agent"
   ]
  },
  {
   "cell_type": "code",
   "execution_count": 34,
   "metadata": {},
   "outputs": [
    {
     "name": "stdout",
     "output_type": "stream",
     "text": [
      "EPISODE: 0\n",
      "[-0.00375338  0.01490336  0.01759002 -0.02107653]\n",
      "Ended in step: 456\n",
      "EPISODE: 1\n",
      "[ 0.0313503   0.0376014  -0.01576764  0.04040986]\n",
      "Ended in step: 500\n",
      "EPISODE: 2\n",
      "[-0.04546818 -0.01583569 -0.03157128 -0.0003829 ]\n",
      "Ended in step: 500\n",
      "EPISODE: 3\n",
      "[-0.02848505 -0.00860606 -0.03838038  0.04568399]\n",
      "Ended in step: 450\n",
      "EPISODE: 4\n",
      "[ 0.01735384  0.0197655  -0.03081213 -0.01378853]\n",
      "Ended in step: 500\n",
      "Could not find video\n"
     ]
    }
   ],
   "source": [
    "env = RecordVideo(gym.make(\"CartPole-v1\",render_mode = \"human\"),\"./video\")\n",
    "# run for 10 episodes\n",
    "\n",
    "for episode in range(5):\n",
    "  step = 0\n",
    "  print(\"EPISODE:\",episode)\n",
    "  observation = env.reset()\n",
    "  observation = observation[0]\n",
    "  print(observation)\n",
    "  while True:\n",
    "      step +=1 \n",
    "      env.render()\n",
    "      #your agent goes here\n",
    "      action = q_policy_agent(observation,q_table,bins)\n",
    "      observation, reward, terminated,truncated, info = env.step(action) \n",
    "      if (terminated or truncated):\n",
    "        print(\"Ended in step:\",step)\n",
    "        break\n",
    "\n",
    "env.close()\n",
    "show_video()"
   ]
  },
  {
   "cell_type": "code",
   "execution_count": null,
   "metadata": {},
   "outputs": [],
   "source": []
  }
 ],
 "metadata": {
  "colab": {
   "authorship_tag": "ABX9TyNczA+lJQOKjOo4XtzYjWQc",
   "include_colab_link": true,
   "provenance": []
  },
  "kernelspec": {
   "display_name": "Python 3 (ipykernel)",
   "language": "python",
   "name": "python3"
  },
  "language_info": {
   "codemirror_mode": {
    "name": "ipython",
    "version": 3
   },
   "file_extension": ".py",
   "mimetype": "text/x-python",
   "name": "python",
   "nbconvert_exporter": "python",
   "pygments_lexer": "ipython3",
   "version": "3.9.7"
  },
  "vscode": {
   "interpreter": {
    "hash": "bf75ad333160327776ff1a54c21a425c3877ede2d09a735c6dba659626d054ec"
   }
  }
 },
 "nbformat": 4,
 "nbformat_minor": 1
}

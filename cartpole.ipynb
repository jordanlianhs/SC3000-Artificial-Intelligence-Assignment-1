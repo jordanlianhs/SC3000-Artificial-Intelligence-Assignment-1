{
 "cells": [
  {
   "cell_type": "markdown",
   "metadata": {
    "colab_type": "text",
    "id": "view-in-github"
   },
   "source": [
    "<a href=\"https://colab.research.google.com/github/yue-zhongqi/cartpole_colab/blob/main/cartpole.ipynb\" target=\"_parent\"><img src=\"https://colab.research.google.com/assets/colab-badge.svg\" alt=\"Open In Colab\"/></a>"
   ]
  },
  {
   "attachments": {},
   "cell_type": "markdown",
   "metadata": {
    "id": "ZauhjPSfX7pI"
   },
   "source": [
    "# SC30000 Lab 1 Balancing a Pole on a Cart"
   ]
  },
  {
   "cell_type": "markdown",
   "metadata": {
    "id": "UBiYOoesYMvr"
   },
   "source": [
    "## Installing dependencies:"
   ]
  },
  {
   "cell_type": "code",
   "execution_count": 1,
   "metadata": {
    "colab": {
     "base_uri": "https://localhost:8080/"
    },
    "id": "PbgnVwZmX5uW",
    "outputId": "7dcfe5ac-b419-4d5d-8305-1ba3c1240df3"
   },
   "outputs": [
    {
     "name": "stdout",
     "output_type": "stream",
     "text": [
      "zsh:1: no matches found: gym[classic_control]\n",
      "Requirement already satisfied: setuptools in /Library/Frameworks/Python.framework/Versions/3.10/lib/python3.10/site-packages (67.5.0)\n",
      "Collecting setuptools\n",
      "  Downloading setuptools-67.5.1-py3-none-any.whl (1.1 MB)\n",
      "\u001b[2K     \u001b[90m━━━━━━━━━━━━━━━━━━━━━━━━━━━━━━━━━━━━━━━━\u001b[0m \u001b[32m1.1/1.1 MB\u001b[0m \u001b[31m1.2 MB/s\u001b[0m eta \u001b[36m0:00:00\u001b[0ma \u001b[36m0:00:01\u001b[0m0m\n",
      "\u001b[?25hInstalling collected packages: setuptools\n",
      "  Attempting uninstall: setuptools\n",
      "    Found existing installation: setuptools 67.5.0\n",
      "    Uninstalling setuptools-67.5.0:\n",
      "      Successfully uninstalled setuptools-67.5.0\n",
      "Successfully installed setuptools-67.5.1\n",
      "\u001b[31mERROR: Could not find a version that satisfies the requirement tensorflow (from versions: none)\u001b[0m\u001b[31m\n",
      "\u001b[0m\u001b[31mERROR: No matching distribution found for tensorflow\u001b[0m\u001b[31m\n",
      "\u001b[0mRequirement already satisfied: moviepy in /Library/Frameworks/Python.framework/Versions/3.10/lib/python3.10/site-packages (1.0.3)\n",
      "Requirement already satisfied: decorator<5.0,>=4.0.2 in /Library/Frameworks/Python.framework/Versions/3.10/lib/python3.10/site-packages (from moviepy) (4.4.2)\n",
      "Requirement already satisfied: tqdm<5.0,>=4.11.2 in /Library/Frameworks/Python.framework/Versions/3.10/lib/python3.10/site-packages (from moviepy) (4.64.1)\n",
      "Requirement already satisfied: requests<3.0,>=2.8.1 in /Library/Frameworks/Python.framework/Versions/3.10/lib/python3.10/site-packages (from moviepy) (2.28.1)\n",
      "Requirement already satisfied: proglog<=1.0.0 in /Library/Frameworks/Python.framework/Versions/3.10/lib/python3.10/site-packages (from moviepy) (0.1.10)\n",
      "Requirement already satisfied: numpy>=1.17.3 in /Library/Frameworks/Python.framework/Versions/3.10/lib/python3.10/site-packages (from moviepy) (1.23.1)\n",
      "Requirement already satisfied: imageio<3.0,>=2.5 in /Library/Frameworks/Python.framework/Versions/3.10/lib/python3.10/site-packages (from moviepy) (2.25.1)\n",
      "Requirement already satisfied: imageio_ffmpeg>=0.2.0 in /Library/Frameworks/Python.framework/Versions/3.10/lib/python3.10/site-packages (from moviepy) (0.4.8)\n",
      "Requirement already satisfied: pillow>=8.3.2 in /Library/Frameworks/Python.framework/Versions/3.10/lib/python3.10/site-packages (from imageio<3.0,>=2.5->moviepy) (9.2.0)\n",
      "Requirement already satisfied: certifi>=2017.4.17 in /Library/Frameworks/Python.framework/Versions/3.10/lib/python3.10/site-packages (from requests<3.0,>=2.8.1->moviepy) (2022.12.7)\n",
      "Requirement already satisfied: idna<4,>=2.5 in /Library/Frameworks/Python.framework/Versions/3.10/lib/python3.10/site-packages (from requests<3.0,>=2.8.1->moviepy) (3.3)\n",
      "Requirement already satisfied: urllib3<1.27,>=1.21.1 in /Library/Frameworks/Python.framework/Versions/3.10/lib/python3.10/site-packages (from requests<3.0,>=2.8.1->moviepy) (1.26.11)\n",
      "Requirement already satisfied: charset-normalizer<3,>=2 in /Library/Frameworks/Python.framework/Versions/3.10/lib/python3.10/site-packages (from requests<3.0,>=2.8.1->moviepy) (2.1.0)\n"
     ]
    }
   ],
   "source": [
    "!apt-get install -y xvfb python-opengl > /dev/null 2>&1\n",
    "!pip install gym pyvirtualdisplay > /dev/null 2>&1\n",
    "!pip install gym pyvirtualdisplay > /dev/null 2>&1\n",
    "!apt-get install -y xvfb python-opengl ffmpeg > /dev/null 2>&1\n",
    "!pip install gym[classic_control]\n",
    "!apt-get update > /dev/null 2>&1\n",
    "!apt-get install cmake > /dev/null 2>&1\n",
    "!pip install --upgrade setuptools 2>&1\n",
    "!pip install ez_setup > /dev/null 2>&1\n",
    "!pip install tensorflow\n",
    "!pip install moviepy"
   ]
  },
  {
   "cell_type": "markdown",
   "metadata": {
    "id": "RwKbYeTgbaTA"
   },
   "source": [
    "## Importing dependencies and define helper functions"
   ]
  },
  {
   "cell_type": "code",
   "execution_count": 2,
   "metadata": {
    "id": "j6KpgCLGYWmj"
   },
   "outputs": [],
   "source": [
    "import gym\n",
    "from gym import logger as gymlogger\n",
    "from gym.wrappers import RecordVideo\n",
    "gymlogger.set_level(40) #error only\n",
    "import tensorflow as tf\n",
    "import numpy as np\n",
    "import random\n",
    "import matplotlib\n",
    "import matplotlib.pyplot as plt\n",
    "%matplotlib inline\n",
    "import math\n",
    "import glob\n",
    "import io\n",
    "import base64\n",
    "import time\n",
    "from IPython.display import HTML\n",
    "from IPython import display as ipythondisplay\n",
    "\n",
    "def show_video():\n",
    "  mp4list = glob.glob('video/*.mp4')\n",
    "  if len(mp4list) > 0:\n",
    "    mp4 = mp4list[0]\n",
    "    video = io.open(mp4, 'r+b').read()\n",
    "    encoded = base64.b64encode(video)\n",
    "    ipythondisplay.display(HTML(data='''<video alt=\"test\" autoplay \n",
    "                loop controls style=\"height: 400px;\">\n",
    "                <source src=\"data:video/mp4;base64,{0}\" type=\"video/mp4\" />\n",
    "             </video>'''.format(encoded.decode('ascii'))))\n",
    "  else: \n",
    "    print(\"Could not find video\")"
   ]
  },
  {
   "cell_type": "markdown",
   "metadata": {},
   "source": [
    "# <font color='lightgreen'> Our implementation </font>\n",
    "\n",
    "We selected the \"Q Learning\" model-free, off-policy reinforcement learning that will find the best course of action, given the current state of the agent. \n"
   ]
  },
  {
   "cell_type": "code",
   "execution_count": 3,
   "metadata": {
    "id": "Go12dH4qbwBy"
   },
   "outputs": [],
   "source": [
    "env = gym.make(\"CartPole-v1\")"
   ]
  },
  {
   "cell_type": "code",
   "execution_count": 4,
   "metadata": {},
   "outputs": [
    {
     "name": "stdout",
     "output_type": "stream",
     "text": [
      "Help on TimeLimit in module gym.wrappers.time_limit object:\n",
      "\n",
      "class TimeLimit(gym.core.Wrapper)\n",
      " |  TimeLimit(env: gym.core.Env, max_episode_steps: Optional[int] = None)\n",
      " |  \n",
      " |  This wrapper will issue a `truncated` signal if a maximum number of timesteps is exceeded.\n",
      " |  \n",
      " |  If a truncation is not defined inside the environment itself, this is the only place that the truncation signal is issued.\n",
      " |  Critically, this is different from the `terminated` signal that originates from the underlying environment as part of the MDP.\n",
      " |  \n",
      " |  Example:\n",
      " |     >>> from gym.envs.classic_control import CartPoleEnv\n",
      " |     >>> from gym.wrappers import TimeLimit\n",
      " |     >>> env = CartPoleEnv()\n",
      " |     >>> env = TimeLimit(env, max_episode_steps=1000)\n",
      " |  \n",
      " |  Method resolution order:\n",
      " |      TimeLimit\n",
      " |      gym.core.Wrapper\n",
      " |      gym.core.Env\n",
      " |      typing.Generic\n",
      " |      builtins.object\n",
      " |  \n",
      " |  Methods defined here:\n",
      " |  \n",
      " |  __init__(self, env: gym.core.Env, max_episode_steps: Optional[int] = None)\n",
      " |      Initializes the :class:`TimeLimit` wrapper with an environment and the number of steps after which truncation will occur.\n",
      " |      \n",
      " |      Args:\n",
      " |          env: The environment to apply the wrapper\n",
      " |          max_episode_steps: An optional max episode steps (if ``Ǹone``, ``env.spec.max_episode_steps`` is used)\n",
      " |  \n",
      " |  reset(self, **kwargs)\n",
      " |      Resets the environment with :param:`**kwargs` and sets the number of steps elapsed to zero.\n",
      " |      \n",
      " |      Args:\n",
      " |          **kwargs: The kwargs to reset the environment with\n",
      " |      \n",
      " |      Returns:\n",
      " |          The reset environment\n",
      " |  \n",
      " |  step(self, action)\n",
      " |      Steps through the environment and if the number of steps elapsed exceeds ``max_episode_steps`` then truncate.\n",
      " |      \n",
      " |      Args:\n",
      " |          action: The environment step action\n",
      " |      \n",
      " |      Returns:\n",
      " |          The environment step ``(observation, reward, terminated, truncated, info)`` with `truncated=True`\n",
      " |          if the number of steps elapsed >= max episode steps\n",
      " |  \n",
      " |  ----------------------------------------------------------------------\n",
      " |  Data and other attributes defined here:\n",
      " |  \n",
      " |  __annotations__ = {}\n",
      " |  \n",
      " |  __parameters__ = ()\n",
      " |  \n",
      " |  ----------------------------------------------------------------------\n",
      " |  Methods inherited from gym.core.Wrapper:\n",
      " |  \n",
      " |  __getattr__(self, name)\n",
      " |      Returns an attribute with ``name``, unless ``name`` starts with an underscore.\n",
      " |  \n",
      " |  __repr__(self)\n",
      " |      Returns the string representation of the wrapper.\n",
      " |  \n",
      " |  __str__(self)\n",
      " |      Returns the wrapper name and the unwrapped environment string.\n",
      " |  \n",
      " |  close(self)\n",
      " |      Closes the environment.\n",
      " |  \n",
      " |  render(self, *args, **kwargs) -> Union[~RenderFrame, List[~RenderFrame], NoneType]\n",
      " |      Renders the environment.\n",
      " |  \n",
      " |  ----------------------------------------------------------------------\n",
      " |  Class methods inherited from gym.core.Wrapper:\n",
      " |  \n",
      " |  class_name() from builtins.type\n",
      " |      Returns the class name of the wrapper.\n",
      " |  \n",
      " |  ----------------------------------------------------------------------\n",
      " |  Readonly properties inherited from gym.core.Wrapper:\n",
      " |  \n",
      " |  render_mode\n",
      " |      Returns the environment render_mode.\n",
      " |  \n",
      " |  spec\n",
      " |      Returns the environment specification.\n",
      " |  \n",
      " |  unwrapped\n",
      " |      Returns the base environment of the wrapper.\n",
      " |  \n",
      " |  ----------------------------------------------------------------------\n",
      " |  Data descriptors inherited from gym.core.Wrapper:\n",
      " |  \n",
      " |  action_space\n",
      " |      Returns the action space of the environment.\n",
      " |  \n",
      " |  metadata\n",
      " |      Returns the environment metadata.\n",
      " |  \n",
      " |  np_random\n",
      " |      Returns the environment np_random.\n",
      " |  \n",
      " |  observation_space\n",
      " |      Returns the observation space of the environment.\n",
      " |  \n",
      " |  reward_range\n",
      " |      Return the reward range of the environment.\n",
      " |  \n",
      " |  ----------------------------------------------------------------------\n",
      " |  Data and other attributes inherited from gym.core.Wrapper:\n",
      " |  \n",
      " |  __orig_bases__ = (gym.core.Env[~ObsType, ~ActType],)\n",
      " |  \n",
      " |  ----------------------------------------------------------------------\n",
      " |  Methods inherited from gym.core.Env:\n",
      " |  \n",
      " |  __enter__(self)\n",
      " |      Support with-statement for the environment.\n",
      " |  \n",
      " |  __exit__(self, *args)\n",
      " |      Support with-statement for the environment.\n",
      " |  \n",
      " |  ----------------------------------------------------------------------\n",
      " |  Data descriptors inherited from gym.core.Env:\n",
      " |  \n",
      " |  __dict__\n",
      " |      dictionary for instance variables (if defined)\n",
      " |  \n",
      " |  __weakref__\n",
      " |      list of weak references to the object (if defined)\n",
      " |  \n",
      " |  ----------------------------------------------------------------------\n",
      " |  Class methods inherited from typing.Generic:\n",
      " |  \n",
      " |  __class_getitem__(params) from builtins.type\n",
      " |  \n",
      " |  __init_subclass__(*args, **kwargs) from builtins.type\n",
      " |      This method is called when a class is subclassed.\n",
      " |      \n",
      " |      The default implementation does nothing. It may be\n",
      " |      overridden to extend subclasses.\n",
      "\n"
     ]
    }
   ],
   "source": [
    "help(env)"
   ]
  },
  {
   "cell_type": "markdown",
   "metadata": {
    "id": "9XZ9g3xrcAXE"
   },
   "source": [
    "We can check the action and observation space of this environment. Discrete(2) means that there are two valid discrete actions: 0 & 1."
   ]
  },
  {
   "cell_type": "code",
   "execution_count": 5,
   "metadata": {
    "colab": {
     "base_uri": "https://localhost:8080/"
    },
    "id": "ytxvVmLdcRyw",
    "outputId": "1ce07099-492b-4126-a792-8ff12d79c2db"
   },
   "outputs": [
    {
     "name": "stdout",
     "output_type": "stream",
     "text": [
      "Discrete(2)\n"
     ]
    }
   ],
   "source": [
    "print(env.action_space)"
   ]
  },
  {
   "cell_type": "markdown",
   "metadata": {
    "id": "pVXGWi_Ncfg-"
   },
   "source": [
    "The observation space is given below. The first two arrays define the min and max values of the 4 observed values, corresponding to cart position, velocity and pole angle, angular velocity."
   ]
  },
  {
   "cell_type": "code",
   "execution_count": 6,
   "metadata": {
    "colab": {
     "base_uri": "https://localhost:8080/"
    },
    "id": "DyqHr9I5cdkX",
    "outputId": "369a0733-e7c0-4bca-b427-5e1c603ff074"
   },
   "outputs": [
    {
     "name": "stdout",
     "output_type": "stream",
     "text": [
      "Box([-4.8000002e+00 -3.4028235e+38 -4.1887903e-01 -3.4028235e+38], [4.8000002e+00 3.4028235e+38 4.1887903e-01 3.4028235e+38], (4,), float32)\n"
     ]
    }
   ],
   "source": [
    "print(env.observation_space)"
   ]
  },
  {
   "cell_type": "markdown",
   "metadata": {
    "id": "HFOdaU2Gdyg0"
   },
   "source": [
    "We call each round of the pole-balancing game an \"episode\". At the start of each episode, make sure the environment is reset, which chooses a random initial state, e.g., pole slightly tilted to the right. This initialization can be achieved by the code below, which returns the observation of the initial state."
   ]
  },
  {
   "cell_type": "code",
   "execution_count": 7,
   "metadata": {
    "colab": {
     "base_uri": "https://localhost:8080/"
    },
    "id": "VMr6qAqxdOsm",
    "outputId": "0e35ee3b-15d0-4e1f-926c-194a5a43f830"
   },
   "outputs": [
    {
     "name": "stdout",
     "output_type": "stream",
     "text": [
      "Initial observations: (array([ 0.03399039,  0.00384498, -0.01831256, -0.03022037], dtype=float32), {})\n"
     ]
    }
   ],
   "source": [
    "observation = env.reset()\n",
    "\n",
    "print(\"Initial observations:\", observation)"
   ]
  },
  {
   "cell_type": "markdown",
   "metadata": {
    "id": "qnG2QdfbeZrI"
   },
   "source": [
    "For the CartPole environment, there are two possible actions: 0 for pushing to the left and 1 for pushing to the right. For example, we can push the cart to the left using code below, which returns the new observation, the current reward, an indicator of whether the game ends, and some additional information (not used in this project). For CartPole, the game ends when the pole is significantly tilted or you manage to balance the pole for 500 steps. You get exactly 1 reward for each step before the game ends (i.e., max cumulative reward is 500)."
   ]
  },
  {
   "cell_type": "markdown",
   "metadata": {},
   "source": [
    "The **episode ends** if any one of the following occurs:<br>\n",
    "**Termination**: Cart Position is greater than ±2.4 (center of the cart reaches the edge of the display) <br>\n",
    "**Termination**: Pole Angle is greater than ±12° (±0.20944 rad)<br>\n",
    "**Truncation**: Episode length is greater than 500.\n"
   ]
  },
  {
   "cell_type": "code",
   "execution_count": 8,
   "metadata": {
    "colab": {
     "base_uri": "https://localhost:8080/"
    },
    "id": "MmfMDvyYdWGk",
    "outputId": "fa12ffd8-6707-4cbc-fb86-aef8484d5d17"
   },
   "outputs": [
    {
     "name": "stdout",
     "output_type": "stream",
     "text": [
      "New observations after choosing action 0: [ 0.03406729  0.1992247  -0.01891696 -0.3286244 ]\n",
      "Reward for this step: 1.0\n",
      "Is this round terminated? False\n",
      "Is this round truncated? False\n"
     ]
    }
   ],
   "source": [
    "# step(x): Choose an action (0 or 1)\n",
    "observation, reward, terminated, truncated, info = env.step(1)\n",
    "\n",
    "# Observation: Cart Position, Cart Velocity, Pole Angle, Pole Velocity At Tip\n",
    "print(\"New observations after choosing action 0:\", observation)\n",
    "\n",
    "# Reward: 1 for every step taken, including the termination step\n",
    "print(\"Reward for this step:\", reward)\n",
    "\n",
    "# Termination: Cart Position is greater than ±2.4 (center of the cart reaches the edge of the display)\n",
    "# Termination: Pole Angle is greater than ±12° (±0.20944 rad)\n",
    "print(\"Is this round terminated?\", terminated)\n",
    "\n",
    "# Truncation: Episode length is greater than 500\n",
    "print(\"Is this round truncated?\", truncated)"
   ]
  },
  {
   "cell_type": "markdown",
   "metadata": {
    "id": "tj0zCh59fhBb"
   },
   "source": [
    "Now we can play a full round of the game using a naive strategy (always choosing action 0), and show the cumulative reward in the round. Note that reward returned by env.step(*) corresponds to the reward for current step. So we have to accumulate the reward for each step. Clearly, the naive strategy performs poorly by surviving only a dozen of steps."
   ]
  },
  {
   "cell_type": "code",
   "execution_count": 9,
   "metadata": {
    "colab": {
     "base_uri": "https://localhost:8080/"
    },
    "id": "AVucQVRwf6Jm",
    "outputId": "72f0b7d5-7cb5-4e37-da3d-997c1bfb4641"
   },
   "outputs": [
    {
     "name": "stdout",
     "output_type": "stream",
     "text": [
      "\t\t\t\t\tCart Position, Cart Velocity, Pole Angle, Pole Velocity At Tip\n",
      "New observations after choosing action 0: [ 0.02944337 -0.21630572 -0.04529868  0.24082842]\n",
      "New observations after choosing action 1: [ 0.02511725 -0.4107523  -0.04048211  0.51888585]\n",
      "New observations after choosing action 2: [ 0.01690221 -0.60528165 -0.03010439  0.79854226]\n",
      "New observations after choosing action 3: [ 0.00479657 -0.7999779  -0.01413354  1.0816051 ]\n",
      "New observations after choosing action 4: [-0.01120298 -0.9949105   0.00749856  1.3698195 ]\n",
      "New observations after choosing action 5: [-0.03110119 -1.1901255   0.03489495  1.6648383 ]\n",
      "New observations after choosing action 6: [-0.0549037  -1.3856356   0.06819171  1.9681822 ]\n",
      "New observations after choosing action 7: [-0.08261642 -1.5814085   0.10755536  2.2811918 ]\n",
      "New observations after choosing action 8: [-0.11424459 -1.7773509   0.1531792   2.6049674 ]\n",
      "New observations after choosing action 9: [-0.1497916  -1.9732915   0.20527853  2.9402957 ]\n",
      "New observations after choosing action 10: [-0.18925743 -2.1689613   0.26408446  3.287567  ]\n",
      "Cumulative reward for this round: 11.0\n",
      "Is this round terminated? True\n",
      "Is this round truncated? False\n"
     ]
    }
   ],
   "source": [
    "observation = env.reset()\n",
    "cumulative_reward = 0\n",
    "truncated = terminated = False\n",
    "\n",
    "# Putting trunctated only will result in a 500 episode lenth before it terminates\n",
    "print(\"\\t\\t\\t\\t\\tCart Position, Cart Velocity, Pole Angle, Pole Velocity At Tip\")\n",
    "\n",
    "while not (truncated or terminated):\n",
    "    observation, reward, terminated,truncated, info = env.step(0)\n",
    "    print(f\"New observations after choosing action {int(cumulative_reward)}:\", observation)\n",
    "    cumulative_reward += reward\n",
    "print(\"Cumulative reward for this round:\", cumulative_reward)\n",
    "print(\"Is this round terminated?\", terminated)\n",
    "print(\"Is this round truncated?\", truncated)"
   ]
  },
  {
   "cell_type": "markdown",
   "metadata": {},
   "source": [
    "## Task 1: Development of an RL agent"
   ]
  },
  {
   "cell_type": "markdown",
   "metadata": {},
   "source": [
    "### Steps to construct our Q-Learning Algorithm: \n",
    "\n",
    "1. Create and define our Q table\n",
    "    - A funciton to create a Q-Table\n",
    "    - The function should return a tuple of the with bins of the 4 observed values, corresponding to cart position, velocity and pole angle, angular velocity.<br>\n",
    "    \n",
    "\n",
    "2. Conduct binning to create discrete intervals to faciliate discretisation of our continuous observation space. <br>\n",
    "\n",
    "3. Convert the continuous state space using the user-defined function Discrete(state,bins) \n",
    "\n",
    "4. Define our Q-Learning Algorithm \n",
    "\n",
    "5. Train and define the RL agent"
   ]
  },
  {
   "cell_type": "code",
   "execution_count": 10,
   "metadata": {},
   "outputs": [],
   "source": [
    "#PREPARATION\n",
    "#Make the cartpole environment \n",
    "env = gym.make('CartPole-v1')\n",
    "#Set our bin size to be 30 so that are are reasonably size intervals for discretisation\n",
    "bin_size = 30"
   ]
  },
  {
   "cell_type": "markdown",
   "metadata": {},
   "source": [
    "### Step 1: Create a Q-table \n",
    "\n",
    "- Our Q-table has rows containing all potential combinations of dicretised states and columns containing all possible actions. \n",
    "\n",
    "- Including all possible combinations of states and actions gives rise to a table shape of [bin_size] * state_space + [action_space] \n",
    "<br>--> which is [30 30 30 30 2] in our case as we have chosen bin size to be 30.\n",
    "\n",
    "- Subsequently, this Q-table will be referenced to obtain Q-values that are indicators for the agent to determine the best action to be taken when it is in a particular state. \n",
    "\n",
    "- The agent would scan the Q-table for the highest Q-value or Q(s,a), and follow that action.\n",
    "\n",
    "- The following is a simplified pictorial visualisation of our Q-table:  \n",
    "![2023-02-28%2023.20.15.jpg](attachment:2023-02-28%2023.20.15.jpg)\n",
    "\n",
    "\n",
    "If you are unable to view the image, click on this link: https://drive.google.com/file/d/1sEFHfRqSKNzjuImNIIxuggws1mHqh8lz/view?usp=sharing"
   ]
  },
  {
   "cell_type": "code",
   "execution_count": 11,
   "metadata": {},
   "outputs": [],
   "source": [
    "#FUNCTION TO CREATE AND INITIALIZE Q-TABLE\n",
    "def CreateQtable(state_space,action_space,bin_size):\n",
    "    #Create our Q-table of size [30 30 30 30 2]\n",
    "    #Initialize the entire table to 0 for to allow the agent to begin with randomness\n",
    "    #After training, the agent will then update these Q-table entries to updated Q-values \n",
    "    #np.zeros(): returns an array of zeros with the passed in shape\n",
    "    q_table = np.zeros(shape=([bin_size] * state_space + [action_space]))\n",
    "    return q_table\n",
    "\n",
    "#CREATE THE Q-TABLE \n",
    "q_table = CreateQtable(len(env.observation_space.low),env.action_space.n, bin_size) "
   ]
  },
  {
   "cell_type": "markdown",
   "metadata": {},
   "source": [
    "### Step 2: Binning \n",
    "\n",
    "- To ensure efficiency and functionality, the size of our Q-table is bounded time and space restrictions. <br> \n",
    "\n",
    "- This signifies that we are unable to cater to CartPole-v1's continuous observation space. Therefore, we have to create bins or pre-defined intervals in which every continuous state value can fall under. <br> \n",
    "\n",
    "- Such bins would help to facilitate the discretization of continous states into discrete states and enable us to create a reasonably-sized Q-table. <br> \n",
    "\n",
    "The following diagram describes how the binning process works: \n",
    "![2023-02-28%2023.20.21.jpg](attachment:2023-02-28%2023.20.21.jpg)\n",
    "\n",
    "If you are unable to view the image, click on this link: https://drive.google.com/file/d/1C8HYvZc0jKHtKTguyVrQc6y2s4nBxaeB/view?usp=sharing"
   ]
  },
  {
   "cell_type": "code",
   "execution_count": 12,
   "metadata": {},
   "outputs": [],
   "source": [
    "#FUNCTION TO CREATE BINS FOR EACH STATE (cart position, velocity and pole angle, angular velocity)\n",
    "def CreateBins(bin_size): \n",
    "    #np.linspace(): returns evenly spaced numbers over a specified interval\n",
    "    #syntax: np.linspace(start_val, end_val, num_of_samples_generated) \n",
    "    #We chose the start_val and end_val here to be the upper and lower limits for each state \n",
    "    bins = [np.linspace(-4.8,4.8,bin_size),\n",
    "            np.linspace(-4,4,bin_size),\n",
    "            np.linspace(-0.418,0.418,bin_size),\n",
    "            np.linspace(-4,4,bin_size)]\n",
    "    return bins \n",
    "\n",
    "#CREATE BINS \n",
    "bins = CreateBins(bin_size) "
   ]
  },
  {
   "cell_type": "markdown",
   "metadata": {},
   "source": [
    "### Step 3: Discretizing of continuous observation space\n",
    "\n",
    "- To convert our continuous observation space into a discrete observation space, we made use of the np.digitize() function. <br> \n",
    "\n",
    "- The function helps us to categorise the states values into their respective bins according to the range in which their value falls into <br> \n",
    "\n",
    "The following diagram explains how np.digitize() works: \n",
    "![IMG_0419.jpg](attachment:IMG_0419.jpg)\n",
    "\n",
    "If you are unable to view the image, click on this link: https://drive.google.com/file/d/103SX3hlmuZUlrBDVKRVyJemzqIDstJA-/view?usp=sharing"
   ]
  },
  {
   "cell_type": "code",
   "execution_count": 13,
   "metadata": {},
   "outputs": [],
   "source": [
    "# Discretize the state\n",
    "def Discrete(state, bins):\n",
    "\n",
    "    index = []\n",
    "\n",
    "    #np.digitize(): return the indices of the bins to which each value in input array belongs.\n",
    "    #syntax: np.digitize(x, bins) -- where x = input array to be binned, bins = array of bins\n",
    "    for i in range(len(state)): \n",
    "        index.append(np.digitize(state[i],bins[i]) - 1)\n",
    "\n",
    "    return tuple(index)"
   ]
  },
  {
   "cell_type": "markdown",
   "metadata": {},
   "source": [
    "### Step 4: Definining the Q-Learning Algorithm\n",
    "\n",
    "- Firstly, the algorithm will begin by discretising the current state to facilitate searching up the Q-table thereafter \n",
    "- If the episode is neither terminated nor truncated, the agent proceeds to choose between exploring or exploiting the current Q-table under the Epsilon-Greedy policy \n",
    "\n",
    "The following explains the use of epsilon in our Q-Learning Algorithm: \n",
    "![2023-02-28%2023.20.18.jpg](attachment:2023-02-28%2023.20.18.jpg)"
   ]
  },
  {
   "cell_type": "markdown",
   "metadata": {},
   "source": [
    "- The agent proceed to take the chosen action, discretize the next state and calculate the rewards earned\n",
    "\n",
    "\n",
    "Then, we have to update the Q-table using the Temporal Difference formula : \n",
    "\n",
    "![2023-02-28%2023.20.10.jpg](attachment:2023-02-28%2023.20.10.jpg)\n",
    "\n",
    "\n",
    "If you are unable to view the images, click on these links: \n",
    "- https://drive.google.com/file/d/1J7A6FEZ9TwVuwoH1SUw7yYRrQDFsRIZJ/view?usp=sharing\n",
    "- https://drive.google.com/file/d/1kGrNWPjbeFVheQ5ca4f8GwrOPBUDs7ae/view?usp=share_link"
   ]
  },
  {
   "attachments": {},
   "cell_type": "markdown",
   "metadata": {},
   "source": [
    "#### Generating the Episodes\n",
    "\n",
    "To actually generate the episodes, we use the Q_learning_algo() function, which uses different methods for when we're training the model, or testing it, this is done through the training parameter, where modification of the q_table is locked by the training parameter.\n",
    "\n",
    "We evaluate only the next state, and we update the Q Table based on the reward achieved from generating the next state. "
   ]
  },
  {
   "cell_type": "code",
   "execution_count": 14,
   "metadata": {},
   "outputs": [],
   "source": [
    "#Generates an episode based on the current policy from the Q Table\n",
    "\n",
    "def Q_learning_algo(q_table, bins, gamma, lr, epsilon, training):\n",
    "        # initial observation\n",
    "        current_state = Discrete(env.reset()[0],bins) \n",
    "        score = steps = 0\n",
    "        terminated = truncated =  False\n",
    "        \n",
    "        while not (terminated or truncated):\n",
    "\n",
    "            steps += 1 \n",
    "\n",
    "            # Epsilon-greedy policy \n",
    "            if np.random.uniform(0,1) < epsilon and training == True: \n",
    "                # explore \n",
    "                action = env.action_space.sample()\n",
    "            else: \n",
    "                # exploit \n",
    "                action = np.argmax(q_table[current_state])\n",
    "            \n",
    "            # Take action\n",
    "            observation, reward, terminated, truncated, info = env.step(action)\n",
    "            next_state = Discrete(observation,bins)\n",
    "\n",
    "            score += reward\n",
    "\n",
    "            # Update Q-Table if in training mode\n",
    "            if (not (terminated or truncated)) and training == True:\n",
    "                # Find the maximum Q-value for the next state\n",
    "                max_future_q = np.max(q_table[next_state])\n",
    "                # Get the current Q-value for the current state\n",
    "                current_q = q_table[current_state+(action,)]\n",
    "                # Calculate the new Q-value via Temporal Difference\n",
    "                new_q = (1-lr)*current_q + lr*(reward + gamma*max_future_q)\n",
    "                # Assign new Q-value to the Q-table\n",
    "                q_table[current_state+(action,)] = new_q\n",
    "\n",
    "            # Update the current state\n",
    "            current_state = next_state\n",
    "            \n",
    "        if training == True:\n",
    "            return q_table, score, steps\n",
    "        else:\n",
    "            return score, steps"
   ]
  },
  {
   "attachments": {},
   "cell_type": "markdown",
   "metadata": {},
   "source": [
    "### Step 5: Train and Define the Reinforcement Learning (RL) Agent \n",
    "\n",
    "- As the RL agent needs to learn from experience, we will train the agent by running the algorithm for 10000 episodes.\n",
    "- We create a Q_learning function to run the algorithm for 10000 times and print out the result of when the problem is solved when the cumulative score for an episode exceeds 195.\n",
    "- Due to the presence of an epsilon, the RL Agent will continuously explore and exploit such that the Q-table gradually contains values that are able to accurately \"point out\" optimal actions for the agent to take at every state "
   ]
  },
  {
   "cell_type": "code",
   "execution_count": 15,
   "metadata": {},
   "outputs": [],
   "source": [
    "def Q_learning(q_table, bins, episodes, gamma, lr, epsilon):\n",
    "\n",
    "    rewards = 0\n",
    "    steps = 0 \n",
    "    runs = [0]\n",
    "    solved = False\n",
    "    \n",
    "    for episode in range(episodes):\n",
    "        \n",
    "        q_table, score, steps = Q_learning_algo(q_table, bins, gamma, lr, epsilon, True)\n",
    "\n",
    "        rewards += score\n",
    "        runs.append(score)\n",
    "        if score > 195 and steps >= 100 and solved == False: # considered as a solved:\n",
    "            solved = True\n",
    "            print('Solved in episode : {}'.format(episode))\n",
    "            print(\"Episode, Steps, Score, Rewards: {}, {}, {}, {}\".format(episode, steps, score, rewards))\n",
    "            print(\"Terminated? {}, Truncated? {}\".format(terminated, truncated))\n",
    "   \n",
    "    print('Training Complete')\n",
    "\n",
    "env.close()\n"
   ]
  },
  {
   "cell_type": "code",
   "execution_count": 16,
   "metadata": {},
   "outputs": [
    {
     "name": "stdout",
     "output_type": "stream",
     "text": [
      "Solved in episode : 936\n",
      "Episode, Steps, Score, Rewards: 936, 298, 298.0, 29979.0\n",
      "Terminated? True, Truncated? False\n",
      "Training Complete\n"
     ]
    }
   ],
   "source": [
    "# Train the agent\n",
    "Q_learning(q_table, bins, lr = 0.15, gamma = 0.995, episodes = 10*10**3, epsilon= 0.2)\n"
   ]
  },
  {
   "attachments": {},
   "cell_type": "markdown",
   "metadata": {},
   "source": [
    "### For Task 1, we can show the observation and chosen action below:"
   ]
  },
  {
   "attachments": {},
   "cell_type": "markdown",
   "metadata": {},
   "source": [
    "Here we define a function that takes in the trained Q table, a given state space and the number of bins to return the optimal action using np.argmax to give the recommended action to take at a given discretized state."
   ]
  },
  {
   "cell_type": "code",
   "execution_count": 17,
   "metadata": {},
   "outputs": [],
   "source": [
    "def q_policy_agent(observation, q_table, bins):\n",
    "    return np.argmax(q_table[Discrete(observation,bins)])"
   ]
  },
  {
   "cell_type": "code",
   "execution_count": 18,
   "metadata": {},
   "outputs": [
    {
     "name": "stdout",
     "output_type": "stream",
     "text": [
      "Observation: (array([ 0.03833739,  0.04062668, -0.01455519, -0.00846346], dtype=float32), {})\n",
      "Chosen action: 1\n"
     ]
    }
   ],
   "source": [
    "observation = env.reset()\n",
    "action = q_policy_agent(observation[0], q_table, bins)\n",
    "print(\"Observation:\", observation)\n",
    "print(\"Chosen action:\", action)"
   ]
  },
  {
   "cell_type": "markdown",
   "metadata": {},
   "source": [
    "## Task 2: Demonstrate the effectiveness of the RL agent"
   ]
  },
  {
   "cell_type": "markdown",
   "metadata": {},
   "source": [
    "For this task, use the agent developed in Task 1 to play the game for 100 episodes (refer to tutorial for how to play a round), record the cumulative reward for each round, and plot the reward for each round. A sample plotting code is given below. Note that you must include code to play for 100 episodes and use the code to obtain round_results for plotting. DO NOT record the round results in advance and paste the results to the notebook."
   ]
  },
  {
   "cell_type": "code",
   "execution_count": 19,
   "metadata": {},
   "outputs": [
    {
     "data": {
      "image/png": "[encoded data removed]",
      "text/plain": [
       "<Figure size 432x288 with 1 Axes>"
      ]
     },
     "metadata": {
      "needs_background": "light"
     },
     "output_type": "display_data"
    }
   ],
   "source": [
    "# Test the agent\n",
    "episode_results = {'episode':[],'rewards':[]}\n",
    "\n",
    "for i in range(100):\n",
    "    rewards = 0\n",
    "    episode = 1\n",
    "    score, steps = Q_learning_algo(q_table, bins, 0, 0, 0, False)\n",
    "    rewards += score\n",
    "    episode += 1\n",
    "    # Update the score\n",
    "    episode_results['rewards'].append(rewards)\n",
    "    episode_results['episode'].append(episode)\n",
    "\n",
    "\n",
    "plt.plot(episode_results['rewards'])\n",
    "plt.title('Cumulative reward for each episode')\n",
    "plt.ylabel('Cumulative reward')\n",
    "plt.xlabel('episode')\n",
    "plt.show()\n"
   ]
  },
  {
   "cell_type": "markdown",
   "metadata": {},
   "source": [
    "Print the average reward over the 100 episodes."
   ]
  },
  {
   "cell_type": "code",
   "execution_count": 20,
   "metadata": {},
   "outputs": [
    {
     "name": "stdout",
     "output_type": "stream",
     "text": [
      "Average cumulative reward: 420.58\n",
      "Is my agent good enough? True\n"
     ]
    }
   ],
   "source": [
    "print(\"Average cumulative reward:\", np.array(episode_results['rewards']).mean())\n",
    "print(\"Is my agent good enough?\", np.array(episode_results['rewards']).mean() > 195)"
   ]
  },
  {
   "cell_type": "markdown",
   "metadata": {},
   "source": [
    "## Task 3: Render one episode played by the agent"
   ]
  },
  {
   "cell_type": "code",
   "execution_count": 21,
   "metadata": {},
   "outputs": [
    {
     "name": "stdout",
     "output_type": "stream",
     "text": [
      "EPISODE: 0\n",
      "[-0.04737634  0.03208195 -0.03601972 -0.026943  ]\n",
      "Ended in step: 500\n",
      "EPISODE: 1\n",
      "[-0.01017627  0.03611155  0.03823334  0.04705787]\n",
      "Ended in step: 372\n",
      "EPISODE: 2\n",
      "[0.00900298 0.00800848 0.03736914 0.04811892]\n",
      "Ended in step: 500\n",
      "EPISODE: 3\n",
      "[-0.03951471  0.02558847 -0.01298073 -0.00406908]\n",
      "Ended in step: 185\n",
      "EPISODE: 4\n",
      "[ 0.02461655 -0.03658116 -0.02146005  0.04361316]\n",
      "Ended in step: 336\n",
      "Could not find video\n"
     ]
    }
   ],
   "source": [
    "env = RecordVideo(gym.make(\"CartPole-v1\",render_mode = \"human\"),\"./video\")\n",
    "# run for 10 episodes\n",
    "\n",
    "for episode in range(5):\n",
    "  step = 0\n",
    "  print(\"EPISODE:\",episode+1)\n",
    "  observation = env.reset()\n",
    "  observation = observation[0]\n",
    "  print(observation)\n",
    "  while True:\n",
    "      step +=1 \n",
    "      env.render()\n",
    "      #your agent goes here\n",
    "      action = q_policy_agent(observation,q_table,bins)\n",
    "      observation, reward, terminated,truncated, info = env.step(action) \n",
    "      if (terminated or truncated):\n",
    "        print(\"Ended in step:\",step)\n",
    "        break\n",
    "\n",
    "env.close()\n",
    "show_video()"
   ]
  },
  {
   "cell_type": "code",
   "execution_count": null,
   "metadata": {},
   "outputs": [],
   "source": []
  }
 ],
 "metadata": {
  "colab": {
   "authorship_tag": "ABX9TyNczA+lJQOKjOo4XtzYjWQc",
   "include_colab_link": true,
   "provenance": []
  },
  "kernelspec": {
   "display_name": "Python 3 (ipykernel)",
   "language": "python",
   "name": "python3"
  },
  "language_info": {
   "codemirror_mode": {
    "name": "ipython",
    "version": 3
   },
   "file_extension": ".py",
   "mimetype": "text/x-python",
   "name": "python",
   "nbconvert_exporter": "python",
   "pygments_lexer": "ipython3",
   "version": "3.10.6"
  },
  "vscode": {
   "interpreter": {
    "hash": "bf75ad333160327776ff1a54c21a425c3877ede2d09a735c6dba659626d054ec"
   }
  }
 },
 "nbformat": 4,
 "nbformat_minor": 1
}

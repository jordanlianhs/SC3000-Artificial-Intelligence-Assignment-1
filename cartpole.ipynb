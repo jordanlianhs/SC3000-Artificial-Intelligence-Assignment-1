{
  "cells": [
    {
      "cell_type": "markdown",
      "metadata": {
        "colab_type": "text",
        "id": "view-in-github"
      },
      "source": [
        "<a href=\"https://colab.research.google.com/github/yue-zhongqi/cartpole_colab/blob/main/cartpole.ipynb\" target=\"_parent\"><img src=\"https://colab.research.google.com/assets/colab-badge.svg\" alt=\"Open In Colab\"/></a>"
      ]
    },
    {
      "cell_type": "markdown",
      "metadata": {
        "id": "ZauhjPSfX7pI"
      },
      "source": [
        "# Tutorial and Sample Code for Balancing a Pole on a Cart"
      ]
    },
    {
      "cell_type": "markdown",
      "metadata": {
        "id": "UBiYOoesYMvr"
      },
      "source": [
        "## Installing dependencies:"
      ]
    },
    {
      "cell_type": "code",
      "execution_count": 1,
      "metadata": {
        "colab": {
          "base_uri": "https://localhost:8080/"
        },
        "id": "PbgnVwZmX5uW",
        "outputId": "7dcfe5ac-b419-4d5d-8305-1ba3c1240df3"
      },
      "outputs": [
        {
          "name": "stdout",
          "output_type": "stream",
          "text": [
            "zsh:1: no matches found: gym[classic_control]\n",
            "Requirement already satisfied: setuptools in /Library/Frameworks/Python.framework/Versions/3.10/lib/python3.10/site-packages (67.4.0)\n",
            "\u001b[31mERROR: Could not find a version that satisfies the requirement tensorflow (from versions: none)\u001b[0m\u001b[31m\n",
            "\u001b[0m\u001b[31mERROR: No matching distribution found for tensorflow\u001b[0m\u001b[31m\n",
            "\u001b[0mRequirement already satisfied: moviepy in /Library/Frameworks/Python.framework/Versions/3.10/lib/python3.10/site-packages (1.0.3)\n",
            "Requirement already satisfied: decorator<5.0,>=4.0.2 in /Library/Frameworks/Python.framework/Versions/3.10/lib/python3.10/site-packages (from moviepy) (4.4.2)\n",
            "Requirement already satisfied: tqdm<5.0,>=4.11.2 in /Library/Frameworks/Python.framework/Versions/3.10/lib/python3.10/site-packages (from moviepy) (4.64.1)\n",
            "Requirement already satisfied: requests<3.0,>=2.8.1 in /Library/Frameworks/Python.framework/Versions/3.10/lib/python3.10/site-packages (from moviepy) (2.28.1)\n",
            "Requirement already satisfied: proglog<=1.0.0 in /Library/Frameworks/Python.framework/Versions/3.10/lib/python3.10/site-packages (from moviepy) (0.1.10)\n",
            "Requirement already satisfied: numpy>=1.17.3 in /Library/Frameworks/Python.framework/Versions/3.10/lib/python3.10/site-packages (from moviepy) (1.23.1)\n",
            "Requirement already satisfied: imageio<3.0,>=2.5 in /Library/Frameworks/Python.framework/Versions/3.10/lib/python3.10/site-packages (from moviepy) (2.25.1)\n",
            "Requirement already satisfied: imageio_ffmpeg>=0.2.0 in /Library/Frameworks/Python.framework/Versions/3.10/lib/python3.10/site-packages (from moviepy) (0.4.8)\n",
            "Requirement already satisfied: pillow>=8.3.2 in /Library/Frameworks/Python.framework/Versions/3.10/lib/python3.10/site-packages (from imageio<3.0,>=2.5->moviepy) (9.2.0)\n",
            "Requirement already satisfied: urllib3<1.27,>=1.21.1 in /Library/Frameworks/Python.framework/Versions/3.10/lib/python3.10/site-packages (from requests<3.0,>=2.8.1->moviepy) (1.26.11)\n",
            "Requirement already satisfied: certifi>=2017.4.17 in /Library/Frameworks/Python.framework/Versions/3.10/lib/python3.10/site-packages (from requests<3.0,>=2.8.1->moviepy) (2022.12.7)\n",
            "Requirement already satisfied: charset-normalizer<3,>=2 in /Library/Frameworks/Python.framework/Versions/3.10/lib/python3.10/site-packages (from requests<3.0,>=2.8.1->moviepy) (2.1.0)\n",
            "Requirement already satisfied: idna<4,>=2.5 in /Library/Frameworks/Python.framework/Versions/3.10/lib/python3.10/site-packages (from requests<3.0,>=2.8.1->moviepy) (3.3)\n"
          ]
        }
      ],
      "source": [
        "!apt-get install -y xvfb python-opengl > /dev/null 2>&1\n",
        "!pip install gym pyvirtualdisplay > /dev/null 2>&1\n",
        "!pip install gym pyvirtualdisplay > /dev/null 2>&1\n",
        "!apt-get install -y xvfb python-opengl ffmpeg > /dev/null 2>&1\n",
        "!pip install gym[classic_control]\n",
        "!apt-get update > /dev/null 2>&1\n",
        "!apt-get install cmake > /dev/null 2>&1\n",
        "!pip install --upgrade setuptools 2>&1\n",
        "!pip install ez_setup > /dev/null 2>&1\n",
        "!pip install tensorflow\n",
        "!pip install moviepy"
      ]
    },
    {
      "attachments": {},
      "cell_type": "markdown",
      "metadata": {},
      "source": [
        "### <font color='blue'> for mac !pip install tensorflow-macos <font>"
      ]
    },
    {
      "cell_type": "markdown",
      "metadata": {
        "id": "RwKbYeTgbaTA"
      },
      "source": [
        "## Importing dependencies and define helper functions"
      ]
    },
    {
      "cell_type": "code",
      "execution_count": 2,
      "metadata": {
        "id": "j6KpgCLGYWmj"
      },
      "outputs": [],
      "source": [
        "import gym\n",
        "from gym import logger as gymlogger\n",
        "from gym.wrappers import RecordVideo\n",
        "gymlogger.set_level(40) #error only\n",
        "import tensorflow as tf\n",
        "import numpy as np\n",
        "import random\n",
        "import matplotlib\n",
        "import matplotlib.pyplot as plt\n",
        "%matplotlib inline\n",
        "import math\n",
        "import glob\n",
        "import io\n",
        "import base64\n",
        "import time\n",
        "from IPython.display import HTML\n",
        "from IPython import display as ipythondisplay\n",
        "\n",
        "def show_video():\n",
        "  mp4list = glob.glob('video/*.mp4')\n",
        "  if len(mp4list) > 0:\n",
        "    mp4 = mp4list[0]\n",
        "    video = io.open(mp4, 'r+b').read()\n",
        "    encoded = base64.b64encode(video)\n",
        "    ipythondisplay.display(HTML(data='''<video alt=\"test\" autoplay \n",
        "                loop controls style=\"height: 400px;\">\n",
        "                <source src=\"data:video/mp4;base64,{0}\" type=\"video/mp4\" />\n",
        "             </video>'''.format(encoded.decode('ascii'))))\n",
        "  else: \n",
        "    print(\"Could not find video\")"
      ]
    },
    {
      "cell_type": "markdown",
      "metadata": {
        "id": "ehbqP9CXbmo7"
      },
      "source": [
        "## Tutorial: Loading CartPole environment"
      ]
    },
    {
      "cell_type": "code",
      "execution_count": 4,
      "metadata": {
        "id": "Go12dH4qbwBy"
      },
      "outputs": [],
      "source": [
        "env = gym.make(\"CartPole-v1\")"
      ]
    },
    {
      "cell_type": "code",
      "execution_count": 5,
      "metadata": {},
      "outputs": [
        {
          "name": "stdout",
          "output_type": "stream",
          "text": [
            "Help on TimeLimit in module gym.wrappers.time_limit object:\n",
            "\n",
            "class TimeLimit(gym.core.Wrapper)\n",
            " |  TimeLimit(env: gym.core.Env, max_episode_steps: Optional[int] = None)\n",
            " |  \n",
            " |  This wrapper will issue a `truncated` signal if a maximum number of timesteps is exceeded.\n",
            " |  \n",
            " |  If a truncation is not defined inside the environment itself, this is the only place that the truncation signal is issued.\n",
            " |  Critically, this is different from the `terminated` signal that originates from the underlying environment as part of the MDP.\n",
            " |  \n",
            " |  Example:\n",
            " |     >>> from gym.envs.classic_control import CartPoleEnv\n",
            " |     >>> from gym.wrappers import TimeLimit\n",
            " |     >>> env = CartPoleEnv()\n",
            " |     >>> env = TimeLimit(env, max_episode_steps=1000)\n",
            " |  \n",
            " |  Method resolution order:\n",
            " |      TimeLimit\n",
            " |      gym.core.Wrapper\n",
            " |      gym.core.Env\n",
            " |      typing.Generic\n",
            " |      builtins.object\n",
            " |  \n",
            " |  Methods defined here:\n",
            " |  \n",
            " |  __init__(self, env: gym.core.Env, max_episode_steps: Optional[int] = None)\n",
            " |      Initializes the :class:`TimeLimit` wrapper with an environment and the number of steps after which truncation will occur.\n",
            " |      \n",
            " |      Args:\n",
            " |          env: The environment to apply the wrapper\n",
            " |          max_episode_steps: An optional max episode steps (if ``Ǹone``, ``env.spec.max_episode_steps`` is used)\n",
            " |  \n",
            " |  reset(self, **kwargs)\n",
            " |      Resets the environment with :param:`**kwargs` and sets the number of steps elapsed to zero.\n",
            " |      \n",
            " |      Args:\n",
            " |          **kwargs: The kwargs to reset the environment with\n",
            " |      \n",
            " |      Returns:\n",
            " |          The reset environment\n",
            " |  \n",
            " |  step(self, action)\n",
            " |      Steps through the environment and if the number of steps elapsed exceeds ``max_episode_steps`` then truncate.\n",
            " |      \n",
            " |      Args:\n",
            " |          action: The environment step action\n",
            " |      \n",
            " |      Returns:\n",
            " |          The environment step ``(observation, reward, terminated, truncated, info)`` with `truncated=True`\n",
            " |          if the number of steps elapsed >= max episode steps\n",
            " |  \n",
            " |  ----------------------------------------------------------------------\n",
            " |  Data and other attributes defined here:\n",
            " |  \n",
            " |  __annotations__ = {}\n",
            " |  \n",
            " |  __parameters__ = ()\n",
            " |  \n",
            " |  ----------------------------------------------------------------------\n",
            " |  Methods inherited from gym.core.Wrapper:\n",
            " |  \n",
            " |  __getattr__(self, name)\n",
            " |      Returns an attribute with ``name``, unless ``name`` starts with an underscore.\n",
            " |  \n",
            " |  __repr__(self)\n",
            " |      Returns the string representation of the wrapper.\n",
            " |  \n",
            " |  __str__(self)\n",
            " |      Returns the wrapper name and the unwrapped environment string.\n",
            " |  \n",
            " |  close(self)\n",
            " |      Closes the environment.\n",
            " |  \n",
            " |  render(self, *args, **kwargs) -> Union[~RenderFrame, List[~RenderFrame], NoneType]\n",
            " |      Renders the environment.\n",
            " |  \n",
            " |  ----------------------------------------------------------------------\n",
            " |  Class methods inherited from gym.core.Wrapper:\n",
            " |  \n",
            " |  class_name() from builtins.type\n",
            " |      Returns the class name of the wrapper.\n",
            " |  \n",
            " |  ----------------------------------------------------------------------\n",
            " |  Readonly properties inherited from gym.core.Wrapper:\n",
            " |  \n",
            " |  render_mode\n",
            " |      Returns the environment render_mode.\n",
            " |  \n",
            " |  spec\n",
            " |      Returns the environment specification.\n",
            " |  \n",
            " |  unwrapped\n",
            " |      Returns the base environment of the wrapper.\n",
            " |  \n",
            " |  ----------------------------------------------------------------------\n",
            " |  Data descriptors inherited from gym.core.Wrapper:\n",
            " |  \n",
            " |  action_space\n",
            " |      Returns the action space of the environment.\n",
            " |  \n",
            " |  metadata\n",
            " |      Returns the environment metadata.\n",
            " |  \n",
            " |  np_random\n",
            " |      Returns the environment np_random.\n",
            " |  \n",
            " |  observation_space\n",
            " |      Returns the observation space of the environment.\n",
            " |  \n",
            " |  reward_range\n",
            " |      Return the reward range of the environment.\n",
            " |  \n",
            " |  ----------------------------------------------------------------------\n",
            " |  Data and other attributes inherited from gym.core.Wrapper:\n",
            " |  \n",
            " |  __orig_bases__ = (gym.core.Env[~ObsType, ~ActType],)\n",
            " |  \n",
            " |  ----------------------------------------------------------------------\n",
            " |  Methods inherited from gym.core.Env:\n",
            " |  \n",
            " |  __enter__(self)\n",
            " |      Support with-statement for the environment.\n",
            " |  \n",
            " |  __exit__(self, *args)\n",
            " |      Support with-statement for the environment.\n",
            " |  \n",
            " |  ----------------------------------------------------------------------\n",
            " |  Data descriptors inherited from gym.core.Env:\n",
            " |  \n",
            " |  __dict__\n",
            " |      dictionary for instance variables (if defined)\n",
            " |  \n",
            " |  __weakref__\n",
            " |      list of weak references to the object (if defined)\n",
            " |  \n",
            " |  ----------------------------------------------------------------------\n",
            " |  Class methods inherited from typing.Generic:\n",
            " |  \n",
            " |  __class_getitem__(params) from builtins.type\n",
            " |  \n",
            " |  __init_subclass__(*args, **kwargs) from builtins.type\n",
            " |      This method is called when a class is subclassed.\n",
            " |      \n",
            " |      The default implementation does nothing. It may be\n",
            " |      overridden to extend subclasses.\n",
            "\n"
          ]
        }
      ],
      "source": [
        "help(env)"
      ]
    },
    {
      "cell_type": "markdown",
      "metadata": {
        "id": "9XZ9g3xrcAXE"
      },
      "source": [
        "We can check the action and observation space of this environment. Discrete(2) means that there are two valid discrete actions: 0 & 1."
      ]
    },
    {
      "cell_type": "code",
      "execution_count": 6,
      "metadata": {
        "colab": {
          "base_uri": "https://localhost:8080/"
        },
        "id": "ytxvVmLdcRyw",
        "outputId": "1ce07099-492b-4126-a792-8ff12d79c2db"
      },
      "outputs": [
        {
          "name": "stdout",
          "output_type": "stream",
          "text": [
            "Discrete(2)\n"
          ]
        }
      ],
      "source": [
        "print(env.action_space)"
      ]
    },
    {
      "cell_type": "markdown",
      "metadata": {
        "id": "pVXGWi_Ncfg-"
      },
      "source": [
        "The observation space is given below. The first two arrays define the min and max values of the 4 observed values, corresponding to cart position, velocity and pole angle, angular velocity."
      ]
    },
    {
      "cell_type": "code",
      "execution_count": 7,
      "metadata": {
        "colab": {
          "base_uri": "https://localhost:8080/"
        },
        "id": "DyqHr9I5cdkX",
        "outputId": "369a0733-e7c0-4bca-b427-5e1c603ff074"
      },
      "outputs": [
        {
          "name": "stdout",
          "output_type": "stream",
          "text": [
            "Box([-4.8000002e+00 -3.4028235e+38 -4.1887903e-01 -3.4028235e+38], [4.8000002e+00 3.4028235e+38 4.1887903e-01 3.4028235e+38], (4,), float32)\n"
          ]
        }
      ],
      "source": [
        "print(env.observation_space)"
      ]
    },
    {
      "cell_type": "markdown",
      "metadata": {
        "id": "HFOdaU2Gdyg0"
      },
      "source": [
        "We call each round of the pole-balancing game an \"episode\". At the start of each episode, make sure the environment is reset, which chooses a random initial state, e.g., pole slightly tilted to the right. This initialization can be achieved by the code below, which returns the observation of the initial state."
      ]
    },
    {
      "cell_type": "code",
      "execution_count": 8,
      "metadata": {
        "colab": {
          "base_uri": "https://localhost:8080/"
        },
        "id": "VMr6qAqxdOsm",
        "outputId": "0e35ee3b-15d0-4e1f-926c-194a5a43f830"
      },
      "outputs": [
        {
          "name": "stdout",
          "output_type": "stream",
          "text": [
            "Initial observations: (array([-0.02050825,  0.02480428, -0.01809697, -0.0315573 ], dtype=float32), {})\n"
          ]
        }
      ],
      "source": [
        "observation = env.reset()\n",
        "\n",
        "print(\"Initial observations:\", observation)"
      ]
    },
    {
      "cell_type": "markdown",
      "metadata": {
        "id": "qnG2QdfbeZrI"
      },
      "source": [
        "For the CartPole environment, there are two possible actions: 0 for pushing to the left and 1 for pushing to the right. For example, we can push the cart to the left using code below, which returns the new observation, the current reward, an indicator of whether the game ends, and some additional information (not used in this project). For CartPole, the game ends when the pole is significantly tilted or you manage to balance the pole for 500 steps. You get exactly 1 reward for each step before the game ends (i.e., max cumulative reward is 500)."
      ]
    },
    {
      "attachments": {},
      "cell_type": "markdown",
      "metadata": {},
      "source": [
        "The **episode ends** if any one of the following occurs:<br>\n",
        "**Termination**: Cart Position is greater than ±2.4 (center of the cart reaches the edge of the display) <br>\n",
        "**Termination**: Pole Angle is greater than ±12° (±0.20944 rad)<br>\n",
        "**Truncation**: Episode length is greater than 500.\n"
      ]
    },
    {
      "cell_type": "code",
      "execution_count": 9,
      "metadata": {
        "colab": {
          "base_uri": "https://localhost:8080/"
        },
        "id": "MmfMDvyYdWGk",
        "outputId": "fa12ffd8-6707-4cbc-fb86-aef8484d5d17"
      },
      "outputs": [
        {
          "name": "stdout",
          "output_type": "stream",
          "text": [
            "New observations after choosing action 0: [-0.02001217  0.220181   -0.01872811 -0.32989463]\n",
            "Reward for this step: 1.0\n",
            "Is this round terminated? False\n",
            "Is this round truncated? False\n"
          ]
        }
      ],
      "source": [
        "# step(x): Choose an action (0 or 1)\n",
        "observation, reward, terminated, truncated, info = env.step(1)\n",
        "\n",
        "# Observation: Cart Position, Cart Velocity, Pole Angle, Pole Velocity At Tip\n",
        "print(\"New observations after choosing action 0:\", observation)\n",
        "\n",
        "# Reward: 1 for every step taken, including the termination step\n",
        "print(\"Reward for this step:\", reward)\n",
        "\n",
        "# Termination: Cart Position is greater than ±2.4 (center of the cart reaches the edge of the display)\n",
        "# Termination: Pole Angle is greater than ±12° (±0.20944 rad)\n",
        "print(\"Is this round terminated?\", terminated)\n",
        "\n",
        "# Truncation: Episode length is greater than 500\n",
        "print(\"Is this round truncated?\", truncated)"
      ]
    },
    {
      "cell_type": "markdown",
      "metadata": {
        "id": "tj0zCh59fhBb"
      },
      "source": [
        "Now we can play a full round of the game using a naive strategy (always choosing action 0), and show the cumulative reward in the round. Note that reward returned by env.step(*) corresponds to the reward for current step. So we have to accumulate the reward for each step. Clearly, the naive strategy performs poorly by surviving only a dozen of steps."
      ]
    },
    {
      "cell_type": "code",
      "execution_count": 10,
      "metadata": {
        "colab": {
          "base_uri": "https://localhost:8080/"
        },
        "id": "AVucQVRwf6Jm",
        "outputId": "72f0b7d5-7cb5-4e37-da3d-997c1bfb4641"
      },
      "outputs": [
        {
          "name": "stdout",
          "output_type": "stream",
          "text": [
            "\t\t\t\t\tCart Position, Cart Velocity, Pole Angle, Pole Velocity At Tip\n",
            "New observations after choosing action 0: [ 0.04347607 -0.23482855  0.01659628  0.26367828]\n",
            "New observations after choosing action 1: [ 0.0387795  -0.4301834   0.02186984  0.5615493 ]\n",
            "New observations after choosing action 2: [ 0.03017583 -0.62560534  0.03310083  0.8610413 ]\n",
            "New observations after choosing action 3: [ 0.01766373 -0.82116205  0.05032166  1.1639456 ]\n",
            "New observations after choosing action 4: [ 1.2404876e-03 -1.0169017e+00  7.3600568e-02  1.4719718e+00]\n",
            "New observations after choosing action 5: [-0.01909755 -1.2128425   0.10304     1.7867062 ]\n",
            "New observations after choosing action 6: [-0.0433544  -1.4089595   0.13877413  2.1095617 ]\n",
            "New observations after choosing action 7: [-0.07153359 -1.605171    0.18096536  2.441718  ]\n",
            "New observations after choosing action 8: [-0.10363701 -1.8013202   0.22979972  2.7840512 ]\n",
            "Cumulative reward for this round: 9.0\n",
            "Is this round terminated? True\n",
            "Is this round truncated? False\n"
          ]
        }
      ],
      "source": [
        "observation = env.reset()\n",
        "cumulative_reward = 0\n",
        "truncated = terminated = False\n",
        "\n",
        "# Putting trunctated only will result in a 500 episode lenth before it terminates\n",
        "print(\"\\t\\t\\t\\t\\tCart Position, Cart Velocity, Pole Angle, Pole Velocity At Tip\")\n",
        "\n",
        "while not (truncated or terminated):\n",
        "    observation, reward, terminated,truncated, info = env.step(0)\n",
        "    print(f\"New observations after choosing action {int(cumulative_reward)}:\", observation)\n",
        "    cumulative_reward += reward\n",
        "print(\"Cumulative reward for this round:\", cumulative_reward)\n",
        "print(\"Is this round terminated?\", terminated)\n",
        "print(\"Is this round truncated?\", truncated)"
      ]
    },
    {
      "attachments": {},
      "cell_type": "markdown",
      "metadata": {},
      "source": [
        "# Sample Codes"
      ]
    },
    {
      "cell_type": "markdown",
      "metadata": {
        "id": "2oIzK9SzhlWN"
      },
      "source": [
        "## Task 1: Development of an RL agent"
      ]
    },
    {
      "cell_type": "markdown",
      "metadata": {
        "id": "Cc6_e5c_huiq"
      },
      "source": [
        "An example of a naive agent is given below, which randomly chooses an action regardless of the observation:"
      ]
    },
    {
      "cell_type": "code",
      "execution_count": 11,
      "metadata": {
        "id": "Hk-M4QEfh6l5"
      },
      "outputs": [],
      "source": [
        "def rand_policy_agent(observation):\n",
        "    return random.randint(0, 1)"
      ]
    },
    {
      "cell_type": "markdown",
      "metadata": {
        "id": "RAi7KKwNiegR"
      },
      "source": [
        "For Task 1, we can show the observation and chosen action below:"
      ]
    },
    {
      "cell_type": "code",
      "execution_count": 12,
      "metadata": {
        "colab": {
          "base_uri": "https://localhost:8080/"
        },
        "id": "ae2ia-vUiNKJ",
        "outputId": "22c614ca-5ba0-43d3-d27a-d79073b5d04e"
      },
      "outputs": [
        {
          "name": "stdout",
          "output_type": "stream",
          "text": [
            "Observation: (array([-0.0427711 , -0.00219235,  0.03821219,  0.04003602], dtype=float32), {})\n",
            "Chosen action: 0\n"
          ]
        }
      ],
      "source": [
        "observation = env.reset()\n",
        "action = rand_policy_agent(observation)\n",
        "print(\"Observation:\", observation)\n",
        "print(\"Chosen action:\", action)"
      ]
    },
    {
      "cell_type": "markdown",
      "metadata": {
        "id": "-XtIQ0Rti1gm"
      },
      "source": [
        "## Task 2: Demonstrate the effectiveness of the RL agent"
      ]
    },
    {
      "cell_type": "markdown",
      "metadata": {
        "id": "djBEShf0kGI4"
      },
      "source": [
        "For this task, use the agent developed in Task 1 to play the game for 100 episodes (refer to tutorial for how to play a round), record the cumulative reward for each round, and plot the reward for each round. A sample plotting code is given below. Note that you must include code to play for 100 episodes and use the code to obtain round_results for plotting. DO NOT record the round results in advance and paste the results to the notebook."
      ]
    },
    {
      "cell_type": "code",
      "execution_count": 13,
      "metadata": {
        "colab": {
          "base_uri": "https://localhost:8080/",
          "height": 295
        },
        "id": "RZrCKywQi6CE",
        "outputId": "e304ecc5-14b6-4cf1-831b-dcb42eb46351"
      },
      "outputs": [
        {
          "name": "stdout",
          "output_type": "stream",
          "text": [
            "[154 229 195 170 222 152 207 174 180 216 177 228 200 161 191 196 193 160\n",
            " 235 203 179 168 184 179 211 216 209 214 229 205 201 186 184 229 183 162\n",
            " 169 185 192 247 170 216 184 223 172 218 234 227 218 221 227 201 157 223\n",
            " 163 212 234 203 183 249 210 168 201 228 242 211 205 150 160 243 175 150\n",
            " 196 178 169 173 205 233 199 246 186 221 222 201 208 214 208 249 195 232\n",
            " 216 217 192 223 231 214 170 248 179 161]\n"
          ]
        },
        {
          "data": {
            "image/png": "[encoded data removed]",
            "text/plain": [
              "<Figure size 640x480 with 1 Axes>"
            ]
          },
          "metadata": {},
          "output_type": "display_data"
        }
      ],
      "source": [
        "episode_results = np.random.randint(150, 250, size=100)\n",
        "print(episode_results)\n",
        "plt.plot(episode_results)\n",
        "plt.title('Cumulative reward for each episode')\n",
        "plt.ylabel('Cumulative reward')\n",
        "plt.xlabel('episode')\n",
        "plt.show()"
      ]
    },
    {
      "cell_type": "markdown",
      "metadata": {
        "id": "XndSYH7wlvn7"
      },
      "source": [
        "Print the average reward over the 100 episodes."
      ]
    },
    {
      "cell_type": "code",
      "execution_count": 14,
      "metadata": {
        "colab": {
          "base_uri": "https://localhost:8080/"
        },
        "id": "pOiOp9OYlo5Y",
        "outputId": "7a02ba7b-ff17-41f2-aa7f-eb50d49a83fd"
      },
      "outputs": [
        {
          "name": "stdout",
          "output_type": "stream",
          "text": [
            "Average cumulative reward: 200.39\n",
            "Is my agent good enough? True\n"
          ]
        }
      ],
      "source": [
        "print(\"Average cumulative reward:\", episode_results.mean())\n",
        "print(\"Is my agent good enough?\", episode_results.mean() > 195)"
      ]
    },
    {
      "cell_type": "markdown",
      "metadata": {
        "id": "Yg0DCT38lFA6"
      },
      "source": [
        "## Task 3: Render one episode played by the agent"
      ]
    },
    {
      "cell_type": "markdown",
      "metadata": {
        "id": "vx1awMr9lc_w"
      },
      "source": [
        "Plug your agent to the code below to obtain rendered result."
      ]
    },
    {
      "cell_type": "code",
      "execution_count": 15,
      "metadata": {
        "colab": {
          "base_uri": "https://localhost:8080/",
          "height": 421
        },
        "id": "LYyavfbIa47D",
        "outputId": "10c2f1e7-f3b9-4975-ed25-7c380966a56c"
      },
      "outputs": [
        {
          "name": "stdout",
          "output_type": "stream",
          "text": [
            "Could not find video\n"
          ]
        }
      ],
      "source": [
        "env = RecordVideo(gym.make(\"CartPole-v1\",render_mode = \"human\"),\"./video\")\n",
        "\n",
        "# run for 10 episodes\n",
        "for episode in range(10):\n",
        "  observation = env.reset()\n",
        "  while True:\n",
        "      env.render()\n",
        "      #your agent goes here\n",
        "      action = rand_policy_agent(observation)\n",
        "      observation, reward, terminated,truncated, info = env.step(action) \n",
        "      if terminated: \n",
        "        break;    \n",
        "env.close()\n",
        "show_video()"
      ]
    },
    {
      "attachments": {},
      "cell_type": "markdown",
      "metadata": {},
      "source": [
        "# <font color='lightgreen'> Our implementation </font>"
      ]
    },
    {
      "cell_type": "markdown",
      "metadata": {},
      "source": [
        "## Task 1: Development of an RL agent"
      ]
    },
    {
      "attachments": {},
      "cell_type": "markdown",
      "metadata": {},
      "source": [
        "Creating a Q table<br>\n",
        "\n",
        "We also need to define the number of states and actions.\n",
        "\n",
        "Since the environment is a continuous observation space, we need to convert it into a discete observation space.\n",
        "\n",
        "We will be converting the continuous state space using the user-defined function Discrete(state,bins)\n",
        "\n",
        "We will also define Qtable, a funciton to create a Q-Table, it will return a tuple of the with bins of the 4 observed values, corresponding to cart position, velocity and pole angle, angular velocity."
      ]
    },
    {
      "cell_type": "code",
      "execution_count": 3,
      "metadata": {},
      "outputs": [],
      "source": [
        "# CART POLE, make the environment\n",
        "env = gym.make('CartPole-v1')\n",
        "\n",
        "# Q-Table\n",
        "def Qtable(state_space,action_space,bin_size = 30):\n",
        "    # Create bins for each state, corresponding to cart position, velocity and pole angle, angular velocity.\n",
        "    bins = [np.linspace(-4.8,4.8,bin_size),\n",
        "            np.linspace(-4,4,bin_size),\n",
        "            np.linspace(-0.418,0.418,bin_size),\n",
        "            np.linspace(-4,4,bin_size)]\n",
        "    \n",
        "    # Create Q-Table with all zeros\n",
        "    q_table = np.zeros(shape=([bin_size] * state_space + [action_space]))\n",
        "    \n",
        "    #print(q_table.shape)\n",
        "\n",
        "    return q_table, bins\n",
        "\n",
        "q_table , bins = Qtable(len(env.observation_space.low),env.action_space.n)\n",
        "\n",
        "# Discretize the state\n",
        "def Discrete(state, bins):\n",
        "    index = []\n",
        "    for i in range(len(state)): \n",
        "        index.append(np.digitize(state[i],bins[i]) - 1)\n",
        "    return tuple(index)"
      ]
    },
    {
      "attachments": {},
      "cell_type": "markdown",
      "metadata": {},
      "source": [
        "Definining the Q Learning Agent"
      ]
    },
    {
      "cell_type": "code",
      "execution_count": 14,
      "metadata": {},
      "outputs": [],
      "source": [
        "def Q_learning(q_table, bins, episodes, gamma, lr, timestep, epsilon):\n",
        "    rewards = 0\n",
        "    solved = False \n",
        "    steps = 0 \n",
        "    runs = [0]\n",
        "    data = {'max' : [0], 'avg' : [0]}\n",
        "    start = time.time()\n",
        "    ep = [i for i in range(0,episodes + 1,timestep)] \n",
        "    \n",
        "    for episode in range(1,episodes+1):\n",
        "        \n",
        "        current_state = Discrete(env.reset()[0],bins) # initial observation\n",
        "        score = 0\n",
        "        steps = 0 \n",
        "        terminated = truncated =  False\n",
        "        temp_start = time.time()\n",
        "        \n",
        "        while not (terminated or truncated):\n",
        "\n",
        "            steps += 1 \n",
        "\n",
        "            ep_start = time.time()\n",
        "            if episode%timestep == 0:\n",
        "                env.render()\n",
        "                \n",
        "            if np.random.uniform(0,1) < epsilon:\n",
        "                action = env.action_space.sample()\n",
        "            else:\n",
        "                action = np.argmax(q_table[current_state])\n",
        "            \n",
        "            observation, reward, terminated, truncated, info = env.step(action)\n",
        "            next_state = Discrete(observation,bins)\n",
        "\n",
        "            score += reward\n",
        "            \n",
        "            if not (terminated or truncated):\n",
        "                max_future_q = np.max(q_table[next_state])\n",
        "                current_q = q_table[current_state+(action,)]\n",
        "                new_q = (1-lr)*current_q + lr*(reward + gamma*max_future_q)\n",
        "                q_table[current_state+(action,)] = new_q\n",
        "\n",
        "            current_state = next_state\n",
        "            \n",
        "        # End of the loop update\n",
        "        else:\n",
        "            rewards += score\n",
        "            runs.append(score)\n",
        "            if score > 195 and steps >= 100 and solved == False: # considered as a solved:\n",
        "                solved = True\n",
        "                print('Solved in episode : {} in time {}'.format(episode, (time.time()-ep_start)))\n",
        "                print(\"Episode, Steps, Score, Rewards: {}, {}, {}, {}\".format(episode, steps, score, rewards))\n",
        "                print(\"Terminated? {}, Truncated? {}\".format(terminated, truncated))\n",
        "    \n",
        "        # Timestep value update\n",
        "        if episode%timestep == 0:\n",
        "            print('Episode : {} | Reward -> {} | Max reward : {} | Time : {}'.format(episode,rewards/timestep, max(runs), time.time() - ep_start))\n",
        "            data['max'].append(max(runs))\n",
        "            data['avg'].append(rewards/timestep)\n",
        "            if rewards/timestep >= 195: \n",
        "                print('Solved in episode : {}'.format(episode))\n",
        "            rewards, runs = 0, [0]\n",
        "            solved = False\n",
        "\n",
        "        # Plotting\n",
        "        if len(ep) == len(data['max']):\n",
        "            plt.plot(ep, data['max'], label = 'Max')\n",
        "            plt.plot(ep, data['avg'], label = 'Avg')\n",
        "            plt.xlabel('Episode')\n",
        "            plt.ylabel('Reward')\n",
        "            plt.legend(loc = \"upper left\") \n",
        "env.close()"
      ]
    },
    {
      "cell_type": "code",
      "execution_count": 15,
      "metadata": {},
      "outputs": [
        {
          "name": "stdout",
          "output_type": "stream",
          "text": [
            "Solved in episode : 454 in time 1.5020370483398438e-05\n",
            "Episode, Steps, Score, Rewards: 454, 201, 201.0, 14093.0\n",
            "Terminated? True, Truncated? False\n",
            "Episode : 1000 | Reward -> 60.224 | Max reward : 315.0 | Time : 2.8133392333984375e-05\n",
            "Solved in episode : 1011 in time 1.5020370483398438e-05\n",
            "Episode, Steps, Score, Rewards: 1011, 259, 259.0, 1037.0\n",
            "Terminated? True, Truncated? False\n",
            "Episode : 2000 | Reward -> 96.545 | Max reward : 489.0 | Time : 2.3126602172851562e-05\n",
            "Solved in episode : 2012 in time 1.52587890625e-05\n",
            "Episode, Steps, Score, Rewards: 2012, 227, 227.0, 1210.0\n",
            "Terminated? True, Truncated? False\n",
            "Episode : 3000 | Reward -> 100.957 | Max reward : 500.0 | Time : 4.029273986816406e-05\n",
            "Solved in episode : 3014 in time 1.4066696166992188e-05\n",
            "Episode, Steps, Score, Rewards: 3014, 237, 237.0, 1562.0\n",
            "Terminated? True, Truncated? False\n",
            "Episode : 4000 | Reward -> 109.577 | Max reward : 363.0 | Time : 2.574920654296875e-05\n",
            "Solved in episode : 4007 in time 1.5974044799804688e-05\n",
            "Episode, Steps, Score, Rewards: 4007, 213, 213.0, 803.0\n",
            "Terminated? True, Truncated? False\n",
            "Episode : 5000 | Reward -> 129.702 | Max reward : 500.0 | Time : 2.7179718017578125e-05\n"
          ]
        },
        {
          "data": {
            "image/png": "[encoded data removed]",
            "text/plain": [
              "<Figure size 432x288 with 1 Axes>"
            ]
          },
          "metadata": {
            "needs_background": "light"
          },
          "output_type": "display_data"
        }
      ],
      "source": [
        "#Genereate q table with bins\n",
        "q_table, bins = Qtable((env.observation_space.shape[0]), env.action_space.n)\n",
        "\n",
        "# Train the agent\n",
        "Q_learning(q_table, bins, lr = 0.15, gamma = 0.995, episodes = 5*10**3, timestep = 1000, epsilon= 0.2)\n"
      ]
    },
    {
      "cell_type": "code",
      "execution_count": 16,
      "metadata": {},
      "outputs": [],
      "source": [
        "def q_policy_agent(observation, q_table, bins):\n",
        "    return np.argmax(q_table[Discrete(observation[0],bins)])"
      ]
    },
    {
      "cell_type": "markdown",
      "metadata": {},
      "source": [
        "For Task 1, we can show the observation and chosen action below:"
      ]
    },
    {
      "cell_type": "code",
      "execution_count": 17,
      "metadata": {},
      "outputs": [
        {
          "name": "stdout",
          "output_type": "stream",
          "text": [
            "Observation: (array([ 0.0178814 , -0.00779249, -0.04227094, -0.01857006], dtype=float32), {})\n",
            "Chosen action: 0\n"
          ]
        }
      ],
      "source": [
        "observation = env.reset()\n",
        "action = q_policy_agent(observation, q_table, bins)\n",
        "print(\"Observation:\", observation)\n",
        "print(\"Chosen action:\", action)"
      ]
    },
    {
      "cell_type": "markdown",
      "metadata": {},
      "source": [
        "## Task 2: Demonstrate the effectiveness of the RL agent"
      ]
    },
    {
      "cell_type": "markdown",
      "metadata": {},
      "source": [
        "For this task, use the agent developed in Task 1 to play the game for 100 episodes (refer to tutorial for how to play a round), record the cumulative reward for each round, and plot the reward for each round. A sample plotting code is given below. Note that you must include code to play for 100 episodes and use the code to obtain round_results for plotting. DO NOT record the round results in advance and paste the results to the notebook."
      ]
    },
    {
      "cell_type": "code",
      "execution_count": 18,
      "metadata": {},
      "outputs": [
        {
          "data": {
            "image/png": "[encoded data removed]",
            "text/plain": [
              "<Figure size 432x288 with 1 Axes>"
            ]
          },
          "metadata": {
            "needs_background": "light"
          },
          "output_type": "display_data"
        }
      ],
      "source": [
        "# Test the agent\n",
        "episode_results = {'episode':[],'rewards':[]}\n",
        "\n",
        "for i in range(100):\n",
        "    current_state = Discrete(env.reset()[0],bins) # initial observation\n",
        "    rewards = 0\n",
        "    episode = 1\n",
        "    terminated = truncated =  False\n",
        "    while not (terminated or truncated):\n",
        "        # Choose the best action according to the Q-table\n",
        "        action = np.argmax(q_table[current_state])\n",
        "        \n",
        "        # Take the action and observe the next state and reward\n",
        "        observation, reward, terminated, truncated, info = env.step(action)\n",
        "        \n",
        "        # Update the state and the round\n",
        "        current_state = Discrete(observation,bins)\n",
        "        rewards += reward\n",
        "        episode += 1\n",
        "    # Update the score\n",
        "    episode_results['rewards'].append(rewards)\n",
        "    episode_results['episode'].append(episode)\n",
        "\n",
        "\n",
        "plt.plot(episode_results['rewards'])\n",
        "plt.title('Cumulative reward for each episode')\n",
        "plt.ylabel('Cumulative reward')\n",
        "plt.xlabel('episode')\n",
        "plt.show()\n"
      ]
    },
    {
      "cell_type": "markdown",
      "metadata": {},
      "source": [
        "Print the average reward over the 100 episodes."
      ]
    },
    {
      "cell_type": "code",
      "execution_count": 19,
      "metadata": {},
      "outputs": [
        {
          "name": "stdout",
          "output_type": "stream",
          "text": [
            "Average cumulative reward: 342.87\n",
            "Is my agent good enough? True\n"
          ]
        }
      ],
      "source": [
        "print(\"Average cumulative reward:\", np.array(episode_results['rewards']).mean())\n",
        "print(\"Is my agent good enough?\", np.array(episode_results['rewards']).mean() > 195)"
      ]
    },
    {
      "cell_type": "markdown",
      "metadata": {},
      "source": [
        "## Task 3: Render one episode played by the agent"
      ]
    }
  ],
  "metadata": {
    "colab": {
      "authorship_tag": "ABX9TyNczA+lJQOKjOo4XtzYjWQc",
      "include_colab_link": true,
      "provenance": []
    },
    "kernelspec": {
      "display_name": "Python 3",
      "language": "python",
      "name": "python3"
    },
    "language_info": {
      "codemirror_mode": {
        "name": "ipython",
        "version": 3
      },
      "file_extension": ".py",
      "mimetype": "text/x-python",
      "name": "python",
      "nbconvert_exporter": "python",
      "pygments_lexer": "ipython3",
      "version": "3.10.6"
    },
    "vscode": {
      "interpreter": {
        "hash": "aee8b7b246df8f9039afb4144a1f6fd8d2ca17a180786b69acc140d282b71a49"
      }
    }
  },
  "nbformat": 4,
  "nbformat_minor": 0
}
